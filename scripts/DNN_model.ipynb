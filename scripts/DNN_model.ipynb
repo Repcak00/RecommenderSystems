{
 "cells": [
  {
   "cell_type": "code",
   "execution_count": 1,
   "id": "initial_id",
   "metadata": {
    "collapsed": true,
    "ExecuteTime": {
     "end_time": "2023-11-14T12:29:25.474768800Z",
     "start_time": "2023-11-14T12:29:16.336123500Z"
    }
   },
   "outputs": [],
   "source": [
    "import os\n",
    "\n",
    "import numpy as np\n",
    "import pandas as pd\n",
    "import torch\n",
    "import torchvision.transforms as tt\n",
    "from PIL import Image\n",
    "from torch.utils.data import DataLoader, Dataset\n",
    "import DNN_predicter\n",
    "from sklearn.preprocessing import MinMaxScaler\n",
    "from scripts.collaborative_recommendations import get_recommendation_collaborative"
   ]
  },
  {
   "cell_type": "code",
   "execution_count": 2,
   "outputs": [],
   "source": [
    "cwd = os.getcwd()\n",
    "parent_directory = os.path.abspath(os.path.join(cwd, os.pardir))\n",
    "data_directory = os.path.join(parent_directory, \"data\")"
   ],
   "metadata": {
    "collapsed": false,
    "ExecuteTime": {
     "end_time": "2023-11-14T12:29:25.490393300Z",
     "start_time": "2023-11-14T12:29:25.474768800Z"
    }
   },
   "id": "ae7f84c57f4f6dba"
  },
  {
   "cell_type": "markdown",
   "source": [
    "Na wejściu dajemy user_id, image_przedmiotu, który został zarekomendowany przez collaborative reccomender. Dostajemy prawdopodobieństwo, że user kupi dany przedmiot. "
   ],
   "metadata": {
    "collapsed": false
   },
   "id": "677c2ae912f03015"
  },
  {
   "cell_type": "code",
   "execution_count": 3,
   "outputs": [
    {
     "name": "stdout",
     "output_type": "stream",
     "text": [
      "Cold start, recommending 5 most popular items\n",
      "Index(['B00K4AXHF6', 'B00CWDV8VI', 'B00W8LO9RY', 'B00QA8NRLA', 'B00QA89W46'], dtype='object')\n"
     ]
    }
   ],
   "source": [
    "df_train = pd.read_json(\n",
    "    # os.path.join(data_directory, \"reviews_sentiment_train.json\"), orient=\"split\"\n",
    "    os.path.join(data_directory, \"limited_10_3_sweaters_reviews_sentiment_train.json\"),\n",
    "    orient=\"split\",\n",
    ")\n",
    "melted_df_train = pd.melt(\n",
    "    df_train.reset_index(), id_vars=\"index\", value_vars=df_train.columns\n",
    ")\n",
    "melted_df_train.columns = [\"user_id\", \"item_id\", \"sentiment\"]\n",
    "melted_df_train = melted_df_train[melted_df_train[\"sentiment\"] != -1].reset_index(\n",
    "    drop=True\n",
    ")\n",
    "df_test = pd.read_json(\n",
    "    os.path.join(data_directory, \"limited_10_3_sweaters_reviews_sentiment_test.json\"),\n",
    "    orient=\"split\",\n",
    ")\n",
    "melted_df_test = pd.melt(\n",
    "    df_test.reset_index(), id_vars=\"index\", value_vars=df_test.columns\n",
    ")\n",
    "melted_df_test.columns = [\"user_id\", \"item_id\", \"sentiment\"]\n",
    "melted_df_test = melted_df_test[melted_df_test[\"sentiment\"] != -1].reset_index(\n",
    "    drop=True\n",
    ")\n",
    "\n",
    "scaler = MinMaxScaler(feature_range=(0, 1))\n",
    "melted_df_test[\"sentiment\"] = scaler.fit_transform(\n",
    "    melted_df_test.sentiment.values.reshape(-1, 1)\n",
    ")\n",
    "recommendations =  get_recommendation_collaborative(df_train, \"A2UOWHRPP4895I\", 5)\n",
    "print(recommendations)"
   ],
   "metadata": {
    "collapsed": false,
    "ExecuteTime": {
     "end_time": "2023-11-14T12:29:25.875379300Z",
     "start_time": "2023-11-14T12:29:25.490393300Z"
    }
   },
   "id": "962a2fb2fbd6f36e"
  },
  {
   "cell_type": "code",
   "execution_count": 4,
   "outputs": [],
   "source": [
    "users_to_analyze = list(set(df_test.index.unique()) & set(df_train.index.unique()))\n",
    "df_test = df_test[df_test.index.isin(users_to_analyze)]\n"
   ],
   "metadata": {
    "collapsed": false,
    "ExecuteTime": {
     "end_time": "2023-11-14T12:29:25.937782100Z",
     "start_time": "2023-11-14T12:29:25.875379300Z"
    }
   },
   "id": "fa35427708d26b1d"
  },
  {
   "cell_type": "code",
   "execution_count": 5,
   "outputs": [],
   "source": [
    "pictures_dir = os.path.join(data_directory, \"sweater_pics\")\n",
    "image_size = 480\n",
    "stats = (0.5, 0.5, 0.5), (0.5, 0.5, 0.5)"
   ],
   "metadata": {
    "collapsed": false,
    "ExecuteTime": {
     "end_time": "2023-11-14T12:29:25.959727600Z",
     "start_time": "2023-11-14T12:29:25.891005Z"
    }
   },
   "id": "15bedaf5934a9e3e"
  },
  {
   "cell_type": "code",
   "execution_count": 6,
   "outputs": [
    {
     "name": "stdout",
     "output_type": "stream",
     "text": [
      "CUDA is available!\n"
     ]
    }
   ],
   "source": [
    "if torch.cuda.is_available():\n",
    "    device = torch.device(\"cuda\")\n",
    "    print(\"CUDA is available!\")\n",
    "else:\n",
    "    device = torch.device(\"cpu\")\n",
    "    print(\"CUDA is not available! Using CPU\")"
   ],
   "metadata": {
    "collapsed": false,
    "ExecuteTime": {
     "end_time": "2023-11-14T12:29:26.831246700Z",
     "start_time": "2023-11-14T12:29:25.906630700Z"
    }
   },
   "id": "aee7920ef1af9c1c"
  },
  {
   "cell_type": "markdown",
   "source": [
    "Przykład uczący:\n",
    "-> nazwa użytkownika\n",
    "-> obrazek, jeśli nie oglądał, to np.zeros_like((imgage_size, image_size))\n",
    "-> sentyment, przeskalowany do [0, 1]\n",
    "\n",
    "-> mamy rekomendacje z wyjścia z collaborative\n",
    "-> dla każdej z rekomendacji przepuszczamy <user_nazwa, image> dostajemy predykcję czy dany użytkownik polubi grę, czy nie\n",
    "-> sortujemy po predykcji czy grał czy nie i mamy ostateczną rekomendację"
   ],
   "metadata": {
    "collapsed": false
   },
   "id": "44dd50b0fc59a167"
  },
  {
   "cell_type": "code",
   "execution_count": 7,
   "outputs": [],
   "source": [
    "\n",
    "\n",
    "scaler = MinMaxScaler(feature_range=(0, 1))\n",
    "melted_df_train[\"sentiment\"] = scaler.fit_transform(\n",
    "    melted_df_train.sentiment.values.reshape(-1, 1)\n",
    ")"
   ],
   "metadata": {
    "collapsed": false,
    "ExecuteTime": {
     "end_time": "2023-11-14T12:29:26.934161200Z",
     "start_time": "2023-11-14T12:29:26.831246700Z"
    }
   },
   "id": "c77752faa5258b6d"
  },
  {
   "cell_type": "code",
   "execution_count": 8,
   "outputs": [
    {
     "data": {
      "text/plain": "          user_id     item_id  sentiment\n0  A28783VQT3U5A5  B0000E014L        0.0\n1  A316D2HUYDJV3N  B0000E014L        1.0\n2  A3M1YEA00VZM9I  B0000E014L        0.0\n3  A2YO4KMBESNQCR  B0006ZLL3Y        0.0\n4  A33R9Z36C7TDHC  B000JG677A        1.0",
      "text/html": "<div>\n<style scoped>\n    .dataframe tbody tr th:only-of-type {\n        vertical-align: middle;\n    }\n\n    .dataframe tbody tr th {\n        vertical-align: top;\n    }\n\n    .dataframe thead th {\n        text-align: right;\n    }\n</style>\n<table border=\"1\" class=\"dataframe\">\n  <thead>\n    <tr style=\"text-align: right;\">\n      <th></th>\n      <th>user_id</th>\n      <th>item_id</th>\n      <th>sentiment</th>\n    </tr>\n  </thead>\n  <tbody>\n    <tr>\n      <th>0</th>\n      <td>A28783VQT3U5A5</td>\n      <td>B0000E014L</td>\n      <td>0.0</td>\n    </tr>\n    <tr>\n      <th>1</th>\n      <td>A316D2HUYDJV3N</td>\n      <td>B0000E014L</td>\n      <td>1.0</td>\n    </tr>\n    <tr>\n      <th>2</th>\n      <td>A3M1YEA00VZM9I</td>\n      <td>B0000E014L</td>\n      <td>0.0</td>\n    </tr>\n    <tr>\n      <th>3</th>\n      <td>A2YO4KMBESNQCR</td>\n      <td>B0006ZLL3Y</td>\n      <td>0.0</td>\n    </tr>\n    <tr>\n      <th>4</th>\n      <td>A33R9Z36C7TDHC</td>\n      <td>B000JG677A</td>\n      <td>1.0</td>\n    </tr>\n  </tbody>\n</table>\n</div>"
     },
     "execution_count": 8,
     "metadata": {},
     "output_type": "execute_result"
    }
   ],
   "source": [
    "melted_df_train.head()"
   ],
   "metadata": {
    "collapsed": false,
    "ExecuteTime": {
     "end_time": "2023-11-14T12:29:26.934161200Z",
     "start_time": "2023-11-14T12:29:26.856028500Z"
    }
   },
   "id": "72ee22b64577d1fb"
  },
  {
   "cell_type": "markdown",
   "source": [
    "# Creating training data"
   ],
   "metadata": {
    "collapsed": false
   },
   "id": "574f178dfd04ba94"
  },
  {
   "cell_type": "code",
   "execution_count": 9,
   "outputs": [],
   "source": [
    "transform = tt.Compose(\n",
    "    [\n",
    "        tt.Resize(image_size),\n",
    "        tt.CenterCrop(image_size),\n",
    "        tt.ToTensor(),\n",
    "        tt.Normalize(*stats),\n",
    "    ]\n",
    ")\n",
    "\n",
    "train_dataset = DNN_predicter.TrainDataset(\n",
    "    df=melted_df_train,\n",
    "    pictures_dir=pictures_dir,\n",
    "    transfrom=transform,\n",
    "    image_size=image_size,\n",
    ")\n",
    "test_dataset = DNN_predicter.TrainDataset(\n",
    "    df=melted_df_test,\n",
    "    pictures_dir=pictures_dir,\n",
    "    transfrom=transform,\n",
    "    image_size=image_size,\n",
    ")\n",
    "batch_size = 16\n",
    "train_loader = DataLoader(train_dataset, batch_size=batch_size, shuffle=True)\n",
    "batch_size = 16\n",
    "test_loader = DataLoader(test_dataset, batch_size=batch_size, shuffle=True)"
   ],
   "metadata": {
    "collapsed": false,
    "ExecuteTime": {
     "end_time": "2023-11-14T12:29:26.934161200Z",
     "start_time": "2023-11-14T12:29:26.887242900Z"
    }
   },
   "id": "79c53c9d7a9dd390"
  },
  {
   "cell_type": "code",
   "execution_count": 10,
   "outputs": [],
   "source": [
    "n_pred_items = 5  # number of items to be recommended\n",
    "model = DNN_predicter.PredictionModel(\n",
    "    n_users=df_train.shape[0],\n",
    "    user_embedding_dim=100,\n",
    "    picture_embedding_dim=512,\n",
    "    linear_embedding_dim=300,\n",
    "    output_pred_dim=1,\n",
    "    df_train=df_train,\n",
    ").to(device)"
   ],
   "metadata": {
    "collapsed": false,
    "ExecuteTime": {
     "end_time": "2023-11-14T12:29:27.369494700Z",
     "start_time": "2023-11-14T12:29:26.902867100Z"
    }
   },
   "id": "849de98c030bf706"
  },
  {
   "cell_type": "code",
   "execution_count": 11,
   "outputs": [
    {
     "name": "stdout",
     "output_type": "stream",
     "text": [
      "CUDA is available!\n"
     ]
    },
    {
     "data": {
      "text/plain": "Training epoch:   0%|          | 0/15 [00:00<?, ?Epoch/s]",
      "application/vnd.jupyter.widget-view+json": {
       "version_major": 2,
       "version_minor": 0,
       "model_id": "ec08996dafe34c9c9a323db4b758fc00"
      }
     },
     "metadata": {},
     "output_type": "display_data"
    },
    {
     "data": {
      "text/plain": "Training batch:   0%|          | 0/134 [00:00<?, ?Batch/s]",
      "application/vnd.jupyter.widget-view+json": {
       "version_major": 2,
       "version_minor": 0,
       "model_id": "ad4e855871a643f58370fd0ec6e68fd8"
      }
     },
     "metadata": {},
     "output_type": "display_data"
    },
    {
     "data": {
      "text/plain": "Testing:   0%|          | 0/34 [00:00<?, ?Batch/s]",
      "application/vnd.jupyter.widget-view+json": {
       "version_major": 2,
       "version_minor": 0,
       "model_id": "de430b4743334cc2ad82c44548b31850"
      }
     },
     "metadata": {},
     "output_type": "display_data"
    },
    {
     "name": "stdout",
     "output_type": "stream",
     "text": [
      "After epoch mean test loss: 0.4985085725784302\n",
      "After epoch mean test acc: 0.0\n",
      "After epoch mean loss: 0.49619463086128235\n",
      "After epoch acc: 0.7809835076332092\n"
     ]
    },
    {
     "data": {
      "text/plain": "Training batch:   0%|          | 0/134 [00:00<?, ?Batch/s]",
      "application/vnd.jupyter.widget-view+json": {
       "version_major": 2,
       "version_minor": 0,
       "model_id": "d3c1d125a67b4324ac92faae7177443a"
      }
     },
     "metadata": {},
     "output_type": "display_data"
    },
    {
     "data": {
      "text/plain": "Testing:   0%|          | 0/34 [00:00<?, ?Batch/s]",
      "application/vnd.jupyter.widget-view+json": {
       "version_major": 2,
       "version_minor": 0,
       "model_id": "b7728d87e5e54021b94a3d6302584f34"
      }
     },
     "metadata": {},
     "output_type": "display_data"
    },
    {
     "name": "stdout",
     "output_type": "stream",
     "text": [
      "After epoch mean test loss: 0.5048834681510925\n",
      "After epoch mean test acc: 0.0\n",
      "After epoch mean loss: 0.46351930499076843\n",
      "After epoch acc: 0.7878464460372925\n"
     ]
    },
    {
     "data": {
      "text/plain": "Training batch:   0%|          | 0/134 [00:00<?, ?Batch/s]",
      "application/vnd.jupyter.widget-view+json": {
       "version_major": 2,
       "version_minor": 0,
       "model_id": "13e32233f66d4ca380bb9fce028ce116"
      }
     },
     "metadata": {},
     "output_type": "display_data"
    },
    {
     "data": {
      "text/plain": "Testing:   0%|          | 0/34 [00:00<?, ?Batch/s]",
      "application/vnd.jupyter.widget-view+json": {
       "version_major": 2,
       "version_minor": 0,
       "model_id": "dcae237440ae410ea5a6ea480babde37"
      }
     },
     "metadata": {},
     "output_type": "display_data"
    },
    {
     "name": "stdout",
     "output_type": "stream",
     "text": [
      "After epoch mean test loss: 0.5401606559753418\n",
      "After epoch mean test acc: 0.0\n",
      "After epoch mean loss: 0.41956835985183716\n",
      "After epoch acc: 0.799440324306488\n"
     ]
    },
    {
     "data": {
      "text/plain": "Training batch:   0%|          | 0/134 [00:00<?, ?Batch/s]",
      "application/vnd.jupyter.widget-view+json": {
       "version_major": 2,
       "version_minor": 0,
       "model_id": "31ec1f4173494a1baf5b2bbb874e35d7"
      }
     },
     "metadata": {},
     "output_type": "display_data"
    },
    {
     "data": {
      "text/plain": "Testing:   0%|          | 0/34 [00:00<?, ?Batch/s]",
      "application/vnd.jupyter.widget-view+json": {
       "version_major": 2,
       "version_minor": 0,
       "model_id": "e6863e0cfedc4b0fbd70f70ad0df513e"
      }
     },
     "metadata": {},
     "output_type": "display_data"
    },
    {
     "name": "stdout",
     "output_type": "stream",
     "text": [
      "After epoch mean test loss: 0.5754389762878418\n",
      "After epoch mean test acc: 0.0\n",
      "After epoch mean loss: 0.38330593705177307\n",
      "After epoch acc: 0.8022388219833374\n"
     ]
    },
    {
     "data": {
      "text/plain": "Training batch:   0%|          | 0/134 [00:00<?, ?Batch/s]",
      "application/vnd.jupyter.widget-view+json": {
       "version_major": 2,
       "version_minor": 0,
       "model_id": "332ab6a7c4174db99842bffc4e812a7f"
      }
     },
     "metadata": {},
     "output_type": "display_data"
    },
    {
     "data": {
      "text/plain": "Testing:   0%|          | 0/34 [00:00<?, ?Batch/s]",
      "application/vnd.jupyter.widget-view+json": {
       "version_major": 2,
       "version_minor": 0,
       "model_id": "38973b7d56314aadb26737ada4570a13"
      }
     },
     "metadata": {},
     "output_type": "display_data"
    },
    {
     "name": "stdout",
     "output_type": "stream",
     "text": [
      "After epoch mean test loss: 0.6198124289512634\n",
      "After epoch mean test acc: 0.0\n",
      "After epoch mean loss: 0.3546127676963806\n",
      "After epoch acc: 0.808635413646698\n"
     ]
    },
    {
     "data": {
      "text/plain": "Training batch:   0%|          | 0/134 [00:00<?, ?Batch/s]",
      "application/vnd.jupyter.widget-view+json": {
       "version_major": 2,
       "version_minor": 0,
       "model_id": "18de324924044d0d9a5c61a48b876302"
      }
     },
     "metadata": {},
     "output_type": "display_data"
    },
    {
     "data": {
      "text/plain": "Testing:   0%|          | 0/34 [00:00<?, ?Batch/s]",
      "application/vnd.jupyter.widget-view+json": {
       "version_major": 2,
       "version_minor": 0,
       "model_id": "00d363aac2bf4a619d4065bb1a4bd556"
      }
     },
     "metadata": {},
     "output_type": "display_data"
    },
    {
     "name": "stdout",
     "output_type": "stream",
     "text": [
      "After epoch mean test loss: 0.6718748807907104\n",
      "After epoch mean test acc: 0.0\n",
      "After epoch mean loss: 0.34225550293922424\n",
      "After epoch acc: 0.8128331899642944\n"
     ]
    },
    {
     "data": {
      "text/plain": "Training batch:   0%|          | 0/134 [00:00<?, ?Batch/s]",
      "application/vnd.jupyter.widget-view+json": {
       "version_major": 2,
       "version_minor": 0,
       "model_id": "15a8a548bcdf44488613a3e8b80cbbf8"
      }
     },
     "metadata": {},
     "output_type": "display_data"
    },
    {
     "data": {
      "text/plain": "Testing:   0%|          | 0/34 [00:00<?, ?Batch/s]",
      "application/vnd.jupyter.widget-view+json": {
       "version_major": 2,
       "version_minor": 0,
       "model_id": "85c5d70b87d74a739cce72c82ae84c82"
      }
     },
     "metadata": {},
     "output_type": "display_data"
    },
    {
     "name": "stdout",
     "output_type": "stream",
     "text": [
      "After epoch mean test loss: 0.6255248188972473\n",
      "After epoch mean test acc: 0.0\n",
      "After epoch mean loss: 0.32658180594444275\n",
      "After epoch acc: 0.8206290006637573\n"
     ]
    },
    {
     "data": {
      "text/plain": "Training batch:   0%|          | 0/134 [00:00<?, ?Batch/s]",
      "application/vnd.jupyter.widget-view+json": {
       "version_major": 2,
       "version_minor": 0,
       "model_id": "cfb6dee0db6046d991ae400dbf9c3a1f"
      }
     },
     "metadata": {},
     "output_type": "display_data"
    },
    {
     "data": {
      "text/plain": "Testing:   0%|          | 0/34 [00:00<?, ?Batch/s]",
      "application/vnd.jupyter.widget-view+json": {
       "version_major": 2,
       "version_minor": 0,
       "model_id": "ab4cca0f80324279a3ca9520e2e8f8f3"
      }
     },
     "metadata": {},
     "output_type": "display_data"
    },
    {
     "name": "stdout",
     "output_type": "stream",
     "text": [
      "After epoch mean test loss: 0.7763434648513794\n",
      "After epoch mean test acc: 0.0\n",
      "After epoch mean loss: 0.3123416006565094\n",
      "After epoch acc: 0.829291045665741\n"
     ]
    },
    {
     "data": {
      "text/plain": "Training batch:   0%|          | 0/134 [00:00<?, ?Batch/s]",
      "application/vnd.jupyter.widget-view+json": {
       "version_major": 2,
       "version_minor": 0,
       "model_id": "7529ddd8e37a46949a4a503d51b65e55"
      }
     },
     "metadata": {},
     "output_type": "display_data"
    },
    {
     "data": {
      "text/plain": "Testing:   0%|          | 0/34 [00:00<?, ?Batch/s]",
      "application/vnd.jupyter.widget-view+json": {
       "version_major": 2,
       "version_minor": 0,
       "model_id": "ce58e01cb88144d4995b33f2d2bc289b"
      }
     },
     "metadata": {},
     "output_type": "display_data"
    },
    {
     "name": "stdout",
     "output_type": "stream",
     "text": [
      "After epoch mean test loss: 0.7205005884170532\n",
      "After epoch mean test acc: 0.0\n",
      "After epoch mean loss: 0.30977731943130493\n",
      "After epoch acc: 0.8258928656578064\n"
     ]
    },
    {
     "data": {
      "text/plain": "Training batch:   0%|          | 0/134 [00:00<?, ?Batch/s]",
      "application/vnd.jupyter.widget-view+json": {
       "version_major": 2,
       "version_minor": 0,
       "model_id": "996539d563ca4b528350a5aace9a9d0c"
      }
     },
     "metadata": {},
     "output_type": "display_data"
    },
    {
     "data": {
      "text/plain": "Testing:   0%|          | 0/34 [00:00<?, ?Batch/s]",
      "application/vnd.jupyter.widget-view+json": {
       "version_major": 2,
       "version_minor": 0,
       "model_id": "2483ec606bcd4b378cad433b1d0101ba"
      }
     },
     "metadata": {},
     "output_type": "display_data"
    },
    {
     "name": "stdout",
     "output_type": "stream",
     "text": [
      "After epoch mean test loss: 0.8207182884216309\n",
      "After epoch mean test acc: 0.0\n",
      "After epoch mean loss: 0.2951021194458008\n",
      "After epoch acc: 0.8286914229393005\n"
     ]
    },
    {
     "data": {
      "text/plain": "Training batch:   0%|          | 0/134 [00:00<?, ?Batch/s]",
      "application/vnd.jupyter.widget-view+json": {
       "version_major": 2,
       "version_minor": 0,
       "model_id": "485c4cb0ec9d4546be0ff96b994a4d8a"
      }
     },
     "metadata": {},
     "output_type": "display_data"
    },
    {
     "data": {
      "text/plain": "Testing:   0%|          | 0/34 [00:00<?, ?Batch/s]",
      "application/vnd.jupyter.widget-view+json": {
       "version_major": 2,
       "version_minor": 0,
       "model_id": "0d66f0f82aec4ec0a7d053b215498452"
      }
     },
     "metadata": {},
     "output_type": "display_data"
    },
    {
     "name": "stdout",
     "output_type": "stream",
     "text": [
      "After epoch mean test loss: 0.8271710276603699\n",
      "After epoch mean test acc: 0.0\n",
      "After epoch mean loss: 0.28769651055336\n",
      "After epoch acc: 0.8403518199920654\n"
     ]
    },
    {
     "data": {
      "text/plain": "Training batch:   0%|          | 0/134 [00:00<?, ?Batch/s]",
      "application/vnd.jupyter.widget-view+json": {
       "version_major": 2,
       "version_minor": 0,
       "model_id": "93cd5966c6304e8ab6503ccd8ff48791"
      }
     },
     "metadata": {},
     "output_type": "display_data"
    },
    {
     "data": {
      "text/plain": "Testing:   0%|          | 0/34 [00:00<?, ?Batch/s]",
      "application/vnd.jupyter.widget-view+json": {
       "version_major": 2,
       "version_minor": 0,
       "model_id": "aac9f7a23ba24ffeb6c4718d709f77e3"
      }
     },
     "metadata": {},
     "output_type": "display_data"
    },
    {
     "name": "stdout",
     "output_type": "stream",
     "text": [
      "After epoch mean test loss: 0.8277668952941895\n",
      "After epoch mean test acc: 0.0\n",
      "After epoch mean loss: 0.2874317765235901\n",
      "After epoch acc: 0.8328891396522522\n"
     ]
    },
    {
     "data": {
      "text/plain": "Training batch:   0%|          | 0/134 [00:00<?, ?Batch/s]",
      "application/vnd.jupyter.widget-view+json": {
       "version_major": 2,
       "version_minor": 0,
       "model_id": "0e8a8438f11b4fde9e4071202369d9c0"
      }
     },
     "metadata": {},
     "output_type": "display_data"
    },
    {
     "data": {
      "text/plain": "Testing:   0%|          | 0/34 [00:00<?, ?Batch/s]",
      "application/vnd.jupyter.widget-view+json": {
       "version_major": 2,
       "version_minor": 0,
       "model_id": "d5ef4dc45443400883ef00cc1cace6ed"
      }
     },
     "metadata": {},
     "output_type": "display_data"
    },
    {
     "name": "stdout",
     "output_type": "stream",
     "text": [
      "After epoch mean test loss: 0.855617880821228\n",
      "After epoch mean test acc: 0.0\n",
      "After epoch mean loss: 0.28112325072288513\n",
      "After epoch acc: 0.8394190073013306\n"
     ]
    },
    {
     "data": {
      "text/plain": "Training batch:   0%|          | 0/134 [00:00<?, ?Batch/s]",
      "application/vnd.jupyter.widget-view+json": {
       "version_major": 2,
       "version_minor": 0,
       "model_id": "112ff8ef93834fe8898d83dce24ce677"
      }
     },
     "metadata": {},
     "output_type": "display_data"
    },
    {
     "data": {
      "text/plain": "Testing:   0%|          | 0/34 [00:00<?, ?Batch/s]",
      "application/vnd.jupyter.widget-view+json": {
       "version_major": 2,
       "version_minor": 0,
       "model_id": "e5de2c9784ed4aa6a186edc90225f6ad"
      }
     },
     "metadata": {},
     "output_type": "display_data"
    },
    {
     "name": "stdout",
     "output_type": "stream",
     "text": [
      "After epoch mean test loss: 0.9025090932846069\n",
      "After epoch mean test acc: 0.0\n",
      "After epoch mean loss: 0.2639327049255371\n",
      "After epoch acc: 0.8478145599365234\n"
     ]
    },
    {
     "data": {
      "text/plain": "Training batch:   0%|          | 0/134 [00:00<?, ?Batch/s]",
      "application/vnd.jupyter.widget-view+json": {
       "version_major": 2,
       "version_minor": 0,
       "model_id": "98767bef746447bc86258e6c8f6da6be"
      }
     },
     "metadata": {},
     "output_type": "display_data"
    },
    {
     "data": {
      "text/plain": "Testing:   0%|          | 0/34 [00:00<?, ?Batch/s]",
      "application/vnd.jupyter.widget-view+json": {
       "version_major": 2,
       "version_minor": 0,
       "model_id": "ab6455bc87eb48e2af0c86a5498fad5f"
      }
     },
     "metadata": {},
     "output_type": "display_data"
    },
    {
     "name": "stdout",
     "output_type": "stream",
     "text": [
      "After epoch mean test loss: 0.9011984467506409\n",
      "After epoch mean test acc: 0.0\n",
      "After epoch mean loss: 0.2622416317462921\n",
      "After epoch acc: 0.8468816876411438\n"
     ]
    },
    {
     "data": {
      "text/plain": "<Figure size 1000x500 with 1 Axes>",
      "image/png": "[encoded data removed]"
     },
     "metadata": {},
     "output_type": "display_data"
    },
    {
     "data": {
      "text/plain": "<Figure size 1000x500 with 1 Axes>",
      "image/png": "[encoded data removed]"
     },
     "metadata": {},
     "output_type": "display_data"
    },
    {
     "data": {
      "text/plain": "<Figure size 1000x500 with 1 Axes>",
      "image/png": "[encoded data removed]"
     },
     "metadata": {},
     "output_type": "display_data"
    },
    {
     "data": {
      "text/plain": "<Figure size 1000x500 with 1 Axes>",
      "image/png": "[encoded data removed]"
     },
     "metadata": {},
     "output_type": "display_data"
    }
   ],
   "source": [
    "n_epochs = 15\n",
    "lr = 0.001\n",
    "loss_model, acc_model = DNN_predicter.fit(\n",
    "    model=model, train_dl=train_loader, n_epochs=n_epochs, lr=lr, test_dl=test_loader\n",
    ")"
   ],
   "metadata": {
    "collapsed": false,
    "ExecuteTime": {
     "end_time": "2023-11-14T12:42:45.811694900Z",
     "start_time": "2023-11-14T12:29:27.369494700Z"
    }
   },
   "id": "b916e767e0e3d608"
  },
  {
   "cell_type": "markdown",
   "source": [
    "# Simple evaluation for user \"A103Y1M1F27V4C\""
   ],
   "metadata": {
    "collapsed": false
   },
   "id": "744b6344908e5e1e"
  },
  {
   "cell_type": "code",
   "execution_count": null,
   "outputs": [],
   "source": [
    "model.eval()\n",
    "model = model.cpu()"
   ],
   "metadata": {
    "collapsed": false
   },
   "id": "dc39e35d03637222"
  },
  {
   "cell_type": "code",
   "execution_count": null,
   "outputs": [],
   "source": [
    "recommendations = get_recommendation_collaborative(\n",
    "    df_train, \"A103Y1M1F27V4C\", n_pred_items\n",
    ")"
   ],
   "metadata": {
    "collapsed": false,
    "ExecuteTime": {
     "end_time": "2023-11-14T11:27:04.801841Z",
     "start_time": "2023-11-14T11:27:04.739407400Z"
    }
   },
   "id": "f016eeede767ccb6"
  },
  {
   "cell_type": "code",
   "execution_count": null,
   "outputs": [],
   "source": [
    "user_index = model.df_train.index.get_loc(\"A103Y1M1F27V4C\")"
   ],
   "metadata": {
    "collapsed": false,
    "ExecuteTime": {
     "start_time": "2023-11-14T11:27:04.750403400Z"
    }
   },
   "id": "4454c10521c713e8"
  },
  {
   "cell_type": "code",
   "execution_count": null,
   "outputs": [],
   "source": [
    "items_images = {}\n",
    "for item_name in recommendations:\n",
    "    dict_path = os.path.join(pictures_dir, item_name)\n",
    "    images = os.listdir(dict_path)\n",
    "    if images:\n",
    "        image_path = os.path.join(dict_path, images[0])\n",
    "        image = Image.open(image_path)\n",
    "    else:\n",
    "        image = Image.fromarray(np.zeros((image_size, image_size, 3), dtype=np.uint8))\n",
    "    image = transform(image)\n",
    "    items_images[item_name] = image"
   ],
   "metadata": {
    "collapsed": false,
    "ExecuteTime": {
     "start_time": "2023-11-14T11:27:04.759951Z"
    }
   },
   "id": "d5a79ee5f8c99252"
  },
  {
   "cell_type": "code",
   "execution_count": 15,
   "outputs": [],
   "source": [
    "user_embedding = model.user_embeddings(torch.tensor(user_index))"
   ],
   "metadata": {
    "collapsed": false,
    "ExecuteTime": {
     "end_time": "2023-11-13T09:32:45.414441300Z",
     "start_time": "2023-11-13T09:32:45.407421600Z"
    }
   },
   "id": "22508ad6b25f11dd"
  },
  {
   "cell_type": "code",
   "execution_count": 16,
   "outputs": [],
   "source": [
    "predictions = {}\n",
    "for item_name, image in items_images.items():\n",
    "    pred = (\n",
    "        model(torch.tensor(user_index).unsqueeze(0), image.unsqueeze(0)).detach().item()\n",
    "    )\n",
    "    predictions[item_name] = pred"
   ],
   "metadata": {
    "collapsed": false,
    "ExecuteTime": {
     "end_time": "2023-11-13T09:32:46.228984100Z",
     "start_time": "2023-11-13T09:32:45.407421600Z"
    }
   },
   "id": "a7e472a20759e978"
  },
  {
   "cell_type": "code",
   "execution_count": 17,
   "outputs": [
    {
     "data": {
      "text/plain": "{'B00K4AXHF6': 0.9879337549209595,\n 'B00CWDV8VI': 0.9421641826629639,\n 'B009FVA5XM': 0.6454722881317139,\n 'B00GA84BSI': 0.9778617024421692,\n 'B0073ARU5I': 0.9377362728118896}"
     },
     "execution_count": 17,
     "metadata": {},
     "output_type": "execute_result"
    }
   ],
   "source": [
    "predictions"
   ],
   "metadata": {
    "collapsed": false,
    "ExecuteTime": {
     "end_time": "2023-11-13T09:32:46.245044900Z",
     "start_time": "2023-11-13T09:32:46.231994500Z"
    }
   },
   "id": "68431385764facc2"
  },
  {
   "cell_type": "code",
   "execution_count": 18,
   "outputs": [],
   "source": [
    "sorted_items = sorted(predictions.items(), reverse=True, key=lambda item: item[1])"
   ],
   "metadata": {
    "collapsed": false,
    "ExecuteTime": {
     "end_time": "2023-11-13T09:32:46.280715800Z",
     "start_time": "2023-11-13T09:32:46.246045300Z"
    }
   },
   "id": "f18610ea308216ce"
  },
  {
   "cell_type": "markdown",
   "source": [
    "# New reccomendations for user"
   ],
   "metadata": {
    "collapsed": false
   },
   "id": "3f30d86ae974d359"
  },
  {
   "cell_type": "code",
   "execution_count": 19,
   "outputs": [
    {
     "name": "stdout",
     "output_type": "stream",
     "text": [
      "1. B00K4AXHF6\n",
      "2. B00GA84BSI\n",
      "3. B00CWDV8VI\n",
      "4. B0073ARU5I\n",
      "5. B009FVA5XM\n"
     ]
    }
   ],
   "source": [
    "for idx, tpl in enumerate(sorted_items):\n",
    "    item_name, pred = tpl\n",
    "    print(f\"{idx+1}. {item_name}\")"
   ],
   "metadata": {
    "collapsed": false,
    "ExecuteTime": {
     "end_time": "2023-11-13T09:32:46.281716700Z",
     "start_time": "2023-11-13T09:32:46.262122600Z"
    }
   },
   "id": "37f94f9204e25986"
  },
  {
   "cell_type": "markdown",
   "source": [
    "# Before DNN model."
   ],
   "metadata": {
    "collapsed": false
   },
   "id": "8bd5192d8920035f"
  },
  {
   "cell_type": "code",
   "execution_count": 20,
   "outputs": [
    {
     "name": "stdout",
     "output_type": "stream",
     "text": [
      "1. B00K4AXHF6\n",
      "2. B00CWDV8VI\n",
      "3. B009FVA5XM\n",
      "4. B00GA84BSI\n",
      "5. B0073ARU5I\n"
     ]
    }
   ],
   "source": [
    "for idx, item_name in enumerate(recommendations):\n",
    "    print(f\"{idx+1}. {item_name}\")"
   ],
   "metadata": {
    "collapsed": false,
    "ExecuteTime": {
     "end_time": "2023-11-13T09:32:46.289234Z",
     "start_time": "2023-11-13T09:32:46.277689600Z"
    }
   },
   "id": "aa05e7f14729bed7"
  },
  {
   "cell_type": "code",
   "execution_count": 20,
   "outputs": [],
   "source": [],
   "metadata": {
    "collapsed": false,
    "ExecuteTime": {
     "end_time": "2023-11-13T09:32:46.331162500Z",
     "start_time": "2023-11-13T09:32:46.291245500Z"
    }
   },
   "id": "712c9a27cfa3b5ef"
  }
 ],
 "metadata": {
  "kernelspec": {
   "display_name": "Python 3",
   "language": "python",
   "name": "python3"
  },
  "language_info": {
   "codemirror_mode": {
    "name": "ipython",
    "version": 2
   },
   "file_extension": ".py",
   "mimetype": "text/x-python",
   "name": "python",
   "nbconvert_exporter": "python",
   "pygments_lexer": "ipython2",
   "version": "2.7.6"
  }
 },
 "nbformat": 4,
 "nbformat_minor": 5
}
