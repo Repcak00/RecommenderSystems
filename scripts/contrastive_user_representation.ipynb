{
 "cells": [
  {
   "cell_type": "code",
   "execution_count": 58,
   "id": "11ed300b-c879-4736-8fae-9589ad551f45",
   "metadata": {},
   "outputs": [],
   "source": [
    "import os\n",
    "import datetime as dt\n",
    "import pickle\n",
    "import numpy as np\n",
    "import pandas as pd\n",
    "import matplotlib.pyplot as plt\n",
    "from PIL import Image\n",
    "from tqdm import tqdm\n",
    "import torch\n",
    "import torch.nn as nn\n",
    "import torchvision\n",
    "from torchvision.models import ResNet18_Weights\n",
    "import torchvision.transforms as tt\n",
    "from sklearn.model_selection import train_test_split\n",
    "import numpy\n",
    "import random\n",
    "from sklearn.metrics import (\n",
    "    accuracy_score,\n",
    "    precision_score,\n",
    "    f1_score,\n",
    "    confusion_matrix,\n",
    "    recall_score,\n",
    ")\n",
    "\n",
    "from contrastive import cosine_similarity, contrastive_step, get_similar_example"
   ]
  },
  {
   "cell_type": "markdown",
   "id": "99d14ade-8799-4f1a-9fd0-de29a823df10",
   "metadata": {},
   "source": [
    "### Encoder architecture"
   ]
  },
  {
   "cell_type": "code",
   "execution_count": 59,
   "id": "be5eee95-08a3-475f-b728-38b99739e76c",
   "metadata": {},
   "outputs": [],
   "source": [
    "class SequentialEncoder(nn.Module):\n",
    "    def __init__(\n",
    "        self,\n",
    "        input_size: int,\n",
    "        hidden_sizes: list[int],\n",
    "        output_emb_size: int,\n",
    "    ):\n",
    "        super().__init__()\n",
    "\n",
    "        # first layer get concatenated image embedding and season vector\n",
    "        # last layer returns user embedding\n",
    "        self.lstm = nn.LSTM(input_size, hidden_sizes[0])\n",
    "        layers = []\n",
    "        for in_size, out_size in zip(hidden_sizes[:-1], hidden_sizes[1:]):\n",
    "            layers.append(nn.Linear(in_size, out_size))\n",
    "            layers.append(nn.ReLU())\n",
    "        layers.append(nn.Linear(hidden_sizes[-1], output_emb_size))\n",
    "\n",
    "        self.mlp = nn.Sequential(*layers)\n",
    "\n",
    "    def forward(self, x: torch.Tensor) -> torch.Tensor:\n",
    "        x = self.lstm.forward(x)[1][0]\n",
    "        x = torch.squeeze(x)\n",
    "        return self.mlp(x)"
   ]
  },
  {
   "cell_type": "markdown",
   "id": "f4c32303-5690-463b-893a-5c0a076570a2",
   "metadata": {},
   "source": [
    "### Data preparation"
   ]
  },
  {
   "cell_type": "code",
   "execution_count": null,
   "metadata": {},
   "outputs": [],
   "source": []
  },
  {
   "cell_type": "code",
   "execution_count": 60,
   "id": "0552de2a-e158-4e28-b41c-4703c8c60cd7",
   "metadata": {},
   "outputs": [],
   "source": [
    "users_items = pd.read_json(\"../data/limited_10_3_sweaters_reviews_sentiment.json\")"
   ]
  },
  {
   "cell_type": "code",
   "execution_count": 61,
   "id": "8d4f5928-f0ae-4d9b-893a-b61c6b28a948",
   "metadata": {},
   "outputs": [
    {
     "data": {
      "text/plain": [
       "datetime.datetime(2016, 1, 17, 2, 0)"
      ]
     },
     "execution_count": 61,
     "metadata": {},
     "output_type": "execute_result"
    }
   ],
   "source": [
    "dt.datetime.fromtimestamp(users_items[\"unixReviewTime\"].iloc[0] // 1000)"
   ]
  },
  {
   "cell_type": "code",
   "execution_count": 62,
   "id": "d9420e34-6d76-4320-aa8a-eced367f2fc5",
   "metadata": {},
   "outputs": [],
   "source": [
    "month_season_dict = {\n",
    "    1: 0,\n",
    "    2: 0,\n",
    "    3: 1,\n",
    "    4: 1,\n",
    "    5: 1,\n",
    "    6: 2,\n",
    "    7: 2,\n",
    "    8: 2,\n",
    "    9: 3,\n",
    "    10: 3,\n",
    "    11: 3,\n",
    "    12: 0,\n",
    "}\n",
    "users_items[\"season\"] = users_items[\"unixReviewTime\"].apply(\n",
    "    lambda x: month_season_dict[dt.datetime.fromtimestamp(x // 1000).month]\n",
    ")"
   ]
  },
  {
   "cell_type": "code",
   "execution_count": 63,
   "id": "9347a155-b16c-4f6a-b85e-425ae956595b",
   "metadata": {},
   "outputs": [],
   "source": [
    "games_list = users_items[\"item_id\"].tolist()\n",
    "users_items = users_items[users_items[\"sentiment\"] != 0]\n",
    "negative = users_items[users_items[\"sentiment\"] == -2]\n",
    "users_items = users_items[users_items[\"sentiment\"] != -2]"
   ]
  },
  {
   "cell_type": "code",
   "execution_count": 64,
   "metadata": {},
   "outputs": [],
   "source": [
    "grouped = users_items.groupby(\"reviewer_id\").size().reset_index(name=\"counts\")\n",
    "grouped = grouped[grouped[\"counts\"] >= 4]\n",
    "active_users = grouped[\"reviewer_id\"].values.tolist()\n",
    "users_items = users_items[users_items[\"reviewer_id\"].isin(active_users)]"
   ]
  },
  {
   "cell_type": "code",
   "execution_count": 65,
   "id": "4adad60d-24ab-4232-8c67-4a817678aa9f",
   "metadata": {},
   "outputs": [],
   "source": [
    "class ResnetEmbeddings(nn.Module):\n",
    "    def __init__(self):\n",
    "        super(ResnetEmbeddings, self).__init__()\n",
    "        resnet18 = torchvision.models.resnet18(weights=ResNet18_Weights.DEFAULT)\n",
    "        self.feature_extractor = nn.Sequential(*list(resnet18.children())[:-1])\n",
    "\n",
    "    def forward(self, img):\n",
    "        return self.feature_extractor(img)"
   ]
  },
  {
   "cell_type": "code",
   "execution_count": 66,
   "id": "bab3d8ba-9907-4a17-a0eb-821d7748e4a2",
   "metadata": {},
   "outputs": [],
   "source": [
    "pictures_dir = os.path.join(\"..\", \"sweater_pics\")\n",
    "image_size = 480\n",
    "stats = (0.5, 0.5, 0.5), (0.5, 0.5, 0.5)"
   ]
  },
  {
   "cell_type": "code",
   "execution_count": 67,
   "id": "ea89a31d-9a68-48d5-bb52-67b3a8dbbec4",
   "metadata": {},
   "outputs": [
    {
     "name": "stdout",
     "output_type": "stream",
     "text": [
      "CUDA is available! Moving model to GPU\n"
     ]
    }
   ],
   "source": [
    "if torch.cuda.is_available():\n",
    "    device = torch.device(\"cuda\")\n",
    "    print(\"CUDA is available! Moving model to GPU\")\n",
    "else:\n",
    "    device = torch.device(\"cpu\")\n",
    "    print(\"CUDA is not available! Using CPU\")"
   ]
  },
  {
   "cell_type": "code",
   "execution_count": 68,
   "id": "69095ac2-173c-4c85-ad84-08456ff945ec",
   "metadata": {},
   "outputs": [
    {
     "data": {
      "text/plain": [
       "ResnetEmbeddings(\n",
       "  (feature_extractor): Sequential(\n",
       "    (0): Conv2d(3, 64, kernel_size=(7, 7), stride=(2, 2), padding=(3, 3), bias=False)\n",
       "    (1): BatchNorm2d(64, eps=1e-05, momentum=0.1, affine=True, track_running_stats=True)\n",
       "    (2): ReLU(inplace=True)\n",
       "    (3): MaxPool2d(kernel_size=3, stride=2, padding=1, dilation=1, ceil_mode=False)\n",
       "    (4): Sequential(\n",
       "      (0): BasicBlock(\n",
       "        (conv1): Conv2d(64, 64, kernel_size=(3, 3), stride=(1, 1), padding=(1, 1), bias=False)\n",
       "        (bn1): BatchNorm2d(64, eps=1e-05, momentum=0.1, affine=True, track_running_stats=True)\n",
       "        (relu): ReLU(inplace=True)\n",
       "        (conv2): Conv2d(64, 64, kernel_size=(3, 3), stride=(1, 1), padding=(1, 1), bias=False)\n",
       "        (bn2): BatchNorm2d(64, eps=1e-05, momentum=0.1, affine=True, track_running_stats=True)\n",
       "      )\n",
       "      (1): BasicBlock(\n",
       "        (conv1): Conv2d(64, 64, kernel_size=(3, 3), stride=(1, 1), padding=(1, 1), bias=False)\n",
       "        (bn1): BatchNorm2d(64, eps=1e-05, momentum=0.1, affine=True, track_running_stats=True)\n",
       "        (relu): ReLU(inplace=True)\n",
       "        (conv2): Conv2d(64, 64, kernel_size=(3, 3), stride=(1, 1), padding=(1, 1), bias=False)\n",
       "        (bn2): BatchNorm2d(64, eps=1e-05, momentum=0.1, affine=True, track_running_stats=True)\n",
       "      )\n",
       "    )\n",
       "    (5): Sequential(\n",
       "      (0): BasicBlock(\n",
       "        (conv1): Conv2d(64, 128, kernel_size=(3, 3), stride=(2, 2), padding=(1, 1), bias=False)\n",
       "        (bn1): BatchNorm2d(128, eps=1e-05, momentum=0.1, affine=True, track_running_stats=True)\n",
       "        (relu): ReLU(inplace=True)\n",
       "        (conv2): Conv2d(128, 128, kernel_size=(3, 3), stride=(1, 1), padding=(1, 1), bias=False)\n",
       "        (bn2): BatchNorm2d(128, eps=1e-05, momentum=0.1, affine=True, track_running_stats=True)\n",
       "        (downsample): Sequential(\n",
       "          (0): Conv2d(64, 128, kernel_size=(1, 1), stride=(2, 2), bias=False)\n",
       "          (1): BatchNorm2d(128, eps=1e-05, momentum=0.1, affine=True, track_running_stats=True)\n",
       "        )\n",
       "      )\n",
       "      (1): BasicBlock(\n",
       "        (conv1): Conv2d(128, 128, kernel_size=(3, 3), stride=(1, 1), padding=(1, 1), bias=False)\n",
       "        (bn1): BatchNorm2d(128, eps=1e-05, momentum=0.1, affine=True, track_running_stats=True)\n",
       "        (relu): ReLU(inplace=True)\n",
       "        (conv2): Conv2d(128, 128, kernel_size=(3, 3), stride=(1, 1), padding=(1, 1), bias=False)\n",
       "        (bn2): BatchNorm2d(128, eps=1e-05, momentum=0.1, affine=True, track_running_stats=True)\n",
       "      )\n",
       "    )\n",
       "    (6): Sequential(\n",
       "      (0): BasicBlock(\n",
       "        (conv1): Conv2d(128, 256, kernel_size=(3, 3), stride=(2, 2), padding=(1, 1), bias=False)\n",
       "        (bn1): BatchNorm2d(256, eps=1e-05, momentum=0.1, affine=True, track_running_stats=True)\n",
       "        (relu): ReLU(inplace=True)\n",
       "        (conv2): Conv2d(256, 256, kernel_size=(3, 3), stride=(1, 1), padding=(1, 1), bias=False)\n",
       "        (bn2): BatchNorm2d(256, eps=1e-05, momentum=0.1, affine=True, track_running_stats=True)\n",
       "        (downsample): Sequential(\n",
       "          (0): Conv2d(128, 256, kernel_size=(1, 1), stride=(2, 2), bias=False)\n",
       "          (1): BatchNorm2d(256, eps=1e-05, momentum=0.1, affine=True, track_running_stats=True)\n",
       "        )\n",
       "      )\n",
       "      (1): BasicBlock(\n",
       "        (conv1): Conv2d(256, 256, kernel_size=(3, 3), stride=(1, 1), padding=(1, 1), bias=False)\n",
       "        (bn1): BatchNorm2d(256, eps=1e-05, momentum=0.1, affine=True, track_running_stats=True)\n",
       "        (relu): ReLU(inplace=True)\n",
       "        (conv2): Conv2d(256, 256, kernel_size=(3, 3), stride=(1, 1), padding=(1, 1), bias=False)\n",
       "        (bn2): BatchNorm2d(256, eps=1e-05, momentum=0.1, affine=True, track_running_stats=True)\n",
       "      )\n",
       "    )\n",
       "    (7): Sequential(\n",
       "      (0): BasicBlock(\n",
       "        (conv1): Conv2d(256, 512, kernel_size=(3, 3), stride=(2, 2), padding=(1, 1), bias=False)\n",
       "        (bn1): BatchNorm2d(512, eps=1e-05, momentum=0.1, affine=True, track_running_stats=True)\n",
       "        (relu): ReLU(inplace=True)\n",
       "        (conv2): Conv2d(512, 512, kernel_size=(3, 3), stride=(1, 1), padding=(1, 1), bias=False)\n",
       "        (bn2): BatchNorm2d(512, eps=1e-05, momentum=0.1, affine=True, track_running_stats=True)\n",
       "        (downsample): Sequential(\n",
       "          (0): Conv2d(256, 512, kernel_size=(1, 1), stride=(2, 2), bias=False)\n",
       "          (1): BatchNorm2d(512, eps=1e-05, momentum=0.1, affine=True, track_running_stats=True)\n",
       "        )\n",
       "      )\n",
       "      (1): BasicBlock(\n",
       "        (conv1): Conv2d(512, 512, kernel_size=(3, 3), stride=(1, 1), padding=(1, 1), bias=False)\n",
       "        (bn1): BatchNorm2d(512, eps=1e-05, momentum=0.1, affine=True, track_running_stats=True)\n",
       "        (relu): ReLU(inplace=True)\n",
       "        (conv2): Conv2d(512, 512, kernel_size=(3, 3), stride=(1, 1), padding=(1, 1), bias=False)\n",
       "        (bn2): BatchNorm2d(512, eps=1e-05, momentum=0.1, affine=True, track_running_stats=True)\n",
       "      )\n",
       "    )\n",
       "    (8): AdaptiveAvgPool2d(output_size=(1, 1))\n",
       "  )\n",
       ")"
      ]
     },
     "execution_count": 68,
     "metadata": {},
     "output_type": "execute_result"
    }
   ],
   "source": [
    "resemb = ResnetEmbeddings().to(device)\n",
    "resemb.eval()"
   ]
  },
  {
   "cell_type": "code",
   "execution_count": 69,
   "id": "d51a98a7-f24c-4fc1-917c-0ba28165da3f",
   "metadata": {},
   "outputs": [],
   "source": [
    "users_ids = users_items[\"reviewer_id\"].unique().tolist()\n",
    "items = users_items[\"item_id\"].unique().tolist()"
   ]
  },
  {
   "cell_type": "code",
   "execution_count": 70,
   "id": "e34cf3e6-93d5-424b-8d5a-4bfb62dab9ed",
   "metadata": {},
   "outputs": [],
   "source": [
    "transform = tt.Compose(\n",
    "    [\n",
    "        tt.Resize(image_size),\n",
    "        tt.CenterCrop(image_size),\n",
    "        tt.ToTensor(),\n",
    "        tt.Normalize(*stats),\n",
    "    ]\n",
    ")"
   ]
  },
  {
   "cell_type": "code",
   "execution_count": 71,
   "id": "cbe39d20-ac1d-44e9-a003-71fd64ce0b70",
   "metadata": {},
   "outputs": [],
   "source": [
    "# for each item obtain mean embedding\n",
    "items_embs_path = os.path.join(\"..\", \"data\", \"items_embs.pickle\")\n",
    "if os.path.isfile(items_embs_path):\n",
    "    with open(items_embs_path, \"rb\") as f:\n",
    "        items_embs = pickle.load(f)\n",
    "else:\n",
    "    with torch.no_grad():\n",
    "        items_embs = {}\n",
    "        for item_id in tqdm(items):\n",
    "            # get list of images files of the item\n",
    "            imgs_files = os.listdir(os.path.join(pictures_dir, item_id))\n",
    "            # obtain embedding for each image of the item and get the mean embedding\n",
    "            if imgs_files:\n",
    "                current_item_embs = []\n",
    "                for imfile in imgs_files:\n",
    "                    imfile_path = os.path.join(pictures_dir, item_id, imfile)\n",
    "                    image = Image.open(imfile_path)\n",
    "                    current_item_embs.append(\n",
    "                        resemb(transform(image).reshape((1, 3, 480, 480)).to(device))\n",
    "                    )\n",
    "                # get mean embedding\n",
    "                items_embs[item_id] = torch.mean(\n",
    "                    torch.cat(current_item_embs, dim=0), dim=0\n",
    "                )\n",
    "            # if there's no images, append zero tensor\n",
    "            else:\n",
    "                items_embs[item_id] = torch.zeros((512, 1, 1))"
   ]
  },
  {
   "cell_type": "code",
   "execution_count": 72,
   "id": "cde87ea5-fffc-40c9-8d36-cb3c96dcc56b",
   "metadata": {},
   "outputs": [],
   "source": [
    "import pickle\n",
    "\n",
    "with open(items_embs_path, \"wb\") as f:\n",
    "    pickle.dump(items_embs, f)"
   ]
  },
  {
   "cell_type": "code",
   "execution_count": 73,
   "id": "cac56b63-079c-4355-8c7b-4c3002578c83",
   "metadata": {},
   "outputs": [],
   "source": [
    "def get_one_hot_vector(vec_size: int, index: int):\n",
    "    vec = torch.zeros(vec_size)\n",
    "    vec[index] = 1\n",
    "    return vec"
   ]
  },
  {
   "cell_type": "code",
   "execution_count": 74,
   "metadata": {},
   "outputs": [
    {
     "name": "stderr",
     "output_type": "stream",
     "text": [
      "100%|██████████| 573/573 [00:01<00:00, 436.46it/s]\n"
     ]
    }
   ],
   "source": [
    "X_encoder = []\n",
    "x_last = []\n",
    "x_last_neg = []\n",
    "X_train_neg = []\n",
    "for user in tqdm(active_users):\n",
    "    user_df = users_items[users_items[\"reviewer_id\"] == user]\n",
    "    user_df = user_df.sort_values(\"unixReviewTime\", ascending=True)\n",
    "    user_df[\"order\"] = np.arange(len(user_df))\n",
    "    user_df.drop(\"unixReviewTime\", axis=1, inplace=True)\n",
    "    last_row = user_df.iloc[-1:]\n",
    "    x_last.append(items_embs[last_row[\"item_id\"].values[0]].to(\"cpu\"))\n",
    "    user_df.drop(user_df.tail(1).index, inplace=True)\n",
    "    cur_user_items = []\n",
    "    cur_user_seasons = []\n",
    "    used_pics = []\n",
    "    # we'll get embeddings for items that user has reviewed positively and season vectors\n",
    "    for item_id, season in zip(user_df[\"item_id\"], user_df[\"season\"]):\n",
    "        used_pics.append(item_id)\n",
    "        cur_user_items.append(items_embs[item_id].to(\"cpu\"))\n",
    "        cur_user_seasons.append(get_one_hot_vector(4, season))\n",
    "    cur_user_items = torch.stack(cur_user_items).reshape((-1, 512))\n",
    "    cur_user_seasons = torch.stack(cur_user_seasons)\n",
    "    x = torch.cat((cur_user_items, cur_user_seasons), dim=1)\n",
    "    x.to(\"cpu\")\n",
    "    X_encoder.append(x)\n",
    "\n",
    "    negative_df = negative[negative[\"reviewer_id\"] == user]\n",
    "    if len(negative_df) >= 1:\n",
    "        idx = 0\n",
    "        for item_id, season in zip(negative_df[\"item_id\"], negative_df[\"season\"]):\n",
    "            if idx <= 5:\n",
    "                try:\n",
    "                    x_last_neg.append(items_embs[item_id].to(\"cpu\"))\n",
    "                    X_train_neg.append(x)\n",
    "                    used_pics.append(item_id)\n",
    "                except:\n",
    "                    pass\n",
    "            idx += 1\n",
    "\n",
    "    for i in range(2):\n",
    "        pic_id = used_pics[0]\n",
    "        while pic_id in used_pics:\n",
    "            pic_id, pic_embed = random.choice(list(items_embs.items()))\n",
    "        x_last_neg.append(items_embs[pic_id].to(\"cpu\"))\n",
    "        X_train_neg.append(x)"
   ]
  },
  {
   "cell_type": "code",
   "execution_count": 75,
   "metadata": {},
   "outputs": [],
   "source": [
    "X_encoder = numpy.array(\n",
    "    X_encoder,\n",
    "    dtype=\"object\",\n",
    ")\n",
    "x_last = numpy.array(x_last)\n",
    "\n",
    "X_train_neg = numpy.array(X_train_neg, dtype=\"object\")\n",
    "x_last_train_neg = numpy.array(x_last_neg)\n",
    "# convert array to numpy type array\n",
    "\n",
    "X_train_pos, X_test_pos, x_last_train_pos, x_last_test_pos = train_test_split(\n",
    "    X_encoder, x_last, test_size=0.1\n",
    ")\n",
    "X_train_neg, X_test_neg, x_last_train_neg, x_last_test_neg = train_test_split(\n",
    "    X_train_neg, x_last_train_neg, test_size=0.1\n",
    ")"
   ]
  },
  {
   "cell_type": "markdown",
   "id": "0dde56aa-e487-4232-808a-3cab9ff1b801",
   "metadata": {},
   "source": [
    "### Learning"
   ]
  },
  {
   "cell_type": "code",
   "execution_count": 76,
   "id": "65914d14-c3e3-4df0-a205-2b55004b4271",
   "metadata": {},
   "outputs": [],
   "source": [
    "N_EPOCHS = 20"
   ]
  },
  {
   "cell_type": "code",
   "execution_count": 77,
   "id": "476adf3c-604c-4f8b-bcae-440f4f1b54c3",
   "metadata": {},
   "outputs": [
    {
     "name": "stderr",
     "output_type": "stream",
     "text": [
      "  0%|          | 0/515 [00:00<?, ?it/s]"
     ]
    },
    {
     "name": "stderr",
     "output_type": "stream",
     "text": [
      "100%|██████████| 515/515 [00:06<00:00, 83.56it/s]\n",
      "100%|██████████| 515/515 [00:05<00:00, 86.47it/s]\n",
      "100%|██████████| 515/515 [00:05<00:00, 98.27it/s] \n",
      "100%|██████████| 515/515 [00:07<00:00, 69.34it/s]\n",
      "100%|██████████| 515/515 [00:06<00:00, 77.05it/s]\n",
      "100%|██████████| 515/515 [00:06<00:00, 81.86it/s]\n",
      "100%|██████████| 515/515 [00:06<00:00, 75.60it/s]\n",
      "100%|██████████| 515/515 [00:06<00:00, 75.96it/s]\n",
      "100%|██████████| 515/515 [00:06<00:00, 74.81it/s]\n",
      "100%|██████████| 515/515 [00:06<00:00, 75.18it/s]\n",
      "100%|██████████| 515/515 [00:06<00:00, 74.20it/s]\n",
      "100%|██████████| 515/515 [00:07<00:00, 73.10it/s]\n",
      "100%|██████████| 515/515 [00:07<00:00, 72.72it/s]\n",
      "100%|██████████| 515/515 [00:07<00:00, 73.12it/s]\n",
      "100%|██████████| 515/515 [00:06<00:00, 75.79it/s]\n",
      "100%|██████████| 515/515 [00:06<00:00, 74.22it/s]\n",
      "100%|██████████| 515/515 [00:07<00:00, 73.28it/s]\n",
      "100%|██████████| 515/515 [00:06<00:00, 75.91it/s]\n",
      "100%|██████████| 515/515 [00:06<00:00, 76.15it/s]\n",
      "100%|██████████| 515/515 [00:06<00:00, 74.73it/s]\n"
     ]
    }
   ],
   "source": [
    "import random\n",
    "\n",
    "\n",
    "encoder = SequentialEncoder(\n",
    "    input_size=(512 + 4), hidden_sizes=[256,256,128,64], output_emb_size=32\n",
    ").to(device)\n",
    "optimizer = torch.optim.Adam(encoder.parameters())\n",
    "\n",
    "for i in range(N_EPOCHS):\n",
    "    loss_total = 0\n",
    "\n",
    "    for x in tqdm(X_train_pos):\n",
    "        # choose technique randomly\n",
    "        technique = random.choice([\"shuffle\", \"subset\"])\n",
    "        # get augmented example\n",
    "        with torch.no_grad():\n",
    "            x_augm = get_similar_example(embs=x, technique=technique)\n",
    "        # get other user example\n",
    "        with torch.no_grad():\n",
    "            x_other = random.choice(X_train_pos)\n",
    "\n",
    "        x_augm = x_augm.detach()\n",
    "        x_other = x_other.detach()\n",
    "        # contrastive learning\n",
    "        contrastive_step(\n",
    "            x=x.to(device), x_plus=x_augm.to(device), x_minus=x_other.to(device), encoder=encoder, optimizer=optimizer\n",
    "        )"
   ]
  },
  {
   "cell_type": "code",
   "execution_count": 78,
   "metadata": {},
   "outputs": [],
   "source": [
    "with open(os.path.join(\"..\", \"data\", f\"encoder_{N_EPOCHS}.pkl\"), \"wb\") as f:\n",
    "    pickle.dump(encoder, f)"
   ]
  },
  {
   "cell_type": "markdown",
   "id": "fd474780-6e83-43ae-8713-4e93cdcfd092",
   "metadata": {},
   "source": [
    "### Representations visualization"
   ]
  },
  {
   "cell_type": "code",
   "execution_count": 79,
   "id": "626fcbb8-35d8-4da7-bd57-169d7d797641",
   "metadata": {},
   "outputs": [
    {
     "data": {
      "text/plain": [
       "torch.Size([515, 32])"
      ]
     },
     "execution_count": 79,
     "metadata": {},
     "output_type": "execute_result"
    }
   ],
   "source": [
    "encoder = encoder.eval()\n",
    "representations = [encoder(x.to(device)) for x in X_train_pos]\n",
    "representations = torch.stack(representations)\n",
    "representations.shape"
   ]
  },
  {
   "cell_type": "code",
   "execution_count": 102,
   "id": "841db3ed-9691-4c23-91d9-d7b748c1ded6",
   "metadata": {},
   "outputs": [
    {
     "data": {
      "image/png": "[encoded data removed]",
      "text/plain": [
       "<Figure size 640x480 with 1 Axes>"
      ]
     },
     "metadata": {},
     "output_type": "display_data"
    },
    {
     "data": {
      "text/plain": [
       "<Figure size 640x480 with 0 Axes>"
      ]
     },
     "metadata": {},
     "output_type": "display_data"
    }
   ],
   "source": [
    "from sklearn.decomposition import PCA\n",
    "\n",
    "pca = PCA(n_components=2)\n",
    "representations_pca = pca.fit_transform(representations.detach().cpu().numpy())\n",
    "\n",
    "plt.scatter(representations_pca[:, 0], representations_pca[:, 1])\n",
    "plt.title(\"Sequential representations of users\\n(PCA view)\")\n",
    "plt.show()\n",
    "plt.savefig(os.path.join(\"..\", \"data\", \"sequential_representations.png\"))"
   ]
  },
  {
   "cell_type": "markdown",
   "metadata": {},
   "source": [
    "### Decoder for making predictions"
   ]
  },
  {
   "cell_type": "code",
   "execution_count": 81,
   "metadata": {},
   "outputs": [],
   "source": [
    "class SequentialDecoder(nn.Module):\n",
    "    def __init__(self, game_embed=512, hidden_sizes=[256, 128], emb_size=32):\n",
    "        super().__init__()\n",
    "\n",
    "        # first layer get concatenated image embedding and utime sequence embedding\n",
    "        #    emb size + game_embeding -> hid1 -> hid2 ->...-> hidn -> prawdpopodobienstwo\n",
    "        layers = []\n",
    "        for in_size, out_size in zip(\n",
    "            [emb_size + game_embed] + hidden_sizes[:-1], hidden_sizes\n",
    "        ):\n",
    "            layers.append(nn.Linear(in_size, out_size))\n",
    "            layers.append(nn.ReLU())\n",
    "            layers.append(nn.Dropout(0.2))\n",
    "\n",
    "        layers.append(nn.Linear(hidden_sizes[-1], 1))\n",
    "        layers.append(nn.Sigmoid())\n",
    "        self.sequence = nn.Sequential(*layers)\n",
    "\n",
    "    def forward(self, x: torch.Tensor) -> torch.Tensor:\n",
    "        return self.sequence(x)"
   ]
  },
  {
   "cell_type": "code",
   "execution_count": 82,
   "metadata": {},
   "outputs": [],
   "source": [
    "def shuffle_arrays(array1, array2, array3):\n",
    "    perm = np.random.permutation(len(array1))\n",
    "    return array1[perm], array2[perm], array3[perm]\n",
    "\n",
    "\n",
    "y_positive = np.ones(len(X_train_pos), dtype=\"int\")\n",
    "y_negative = np.ones(len(X_train_neg), dtype=\"int\")\n",
    "X_train = np.concatenate((X_train_pos, X_train_neg), axis=0)\n",
    "Y_train = np.concatenate((y_positive, y_negative), axis=0)\n",
    "X_lasts = np.concatenate((x_last_train_pos, x_last_train_neg), axis=0)\n",
    "\n",
    "X_train, Y_train, X_lasts = shuffle_arrays(X_train, Y_train, X_lasts)"
   ]
  },
  {
   "cell_type": "code",
   "execution_count": 83,
   "metadata": {},
   "outputs": [],
   "source": [
    "def tensors_prep(usr,game):\n",
    "    last_game_embedding = torch.from_numpy(game.reshape(-1)).to(device)\n",
    "    return torch.cat((usr, last_game_embedding), dim=0)"
   ]
  },
  {
   "cell_type": "code",
   "execution_count": 84,
   "metadata": {},
   "outputs": [],
   "source": [
    "from statistics import mean \n",
    "def fit(\n",
    "    encoder,\n",
    "    decoder,\n",
    "    X_train,\n",
    "    X_lasts,\n",
    "    Y_train,\n",
    "    optimizer,\n",
    "    epochs: int = 20,\n",
    "):\n",
    "    encoder.to(device)\n",
    "    encoder.eval()\n",
    "    for param in encoder.parameters():\n",
    "        param.requires_grad = False\n",
    "    decoder.to(device)\n",
    "    for i in range(epochs):\n",
    "        loss_total = []\n",
    "        loss_mean = []\n",
    "\n",
    "        for x, x_last, y in tqdm(zip(X_train, X_lasts, Y_train)):\n",
    "            # choose technique randomly\n",
    "\n",
    "            user_embed = encoder(x.to(device))\n",
    "            # last_game_embedding = torch.from_numpy(x_last.reshape(-1)).to(device)\n",
    "            # result = torch.cat((user_embed, last_game_embedding), dim=0)\n",
    "            result = tensors_prep(user_embed, x_last)\n",
    "            y_pred = decoder(result)\n",
    "\n",
    "            y = torch.tensor(y).to(device)\n",
    "            loss = y*torch.log(y_pred)\n",
    "            \n",
    "            loss_total.append(loss.item())\n",
    "            # print(mean(loss_total))\n",
    "            loss_mean.append(mean(loss_total))\n",
    "            loss.backward()\n",
    "            optimizer.step()\n",
    "            optimizer.zero_grad()\n",
    "    return loss_mean, loss_total, decoder"
   ]
  },
  {
   "cell_type": "code",
   "execution_count": 108,
   "metadata": {},
   "outputs": [],
   "source": [
    "# with open(os.path.join(\"..\", \"data\", f\"encoder_20.pkl\"), \"rb\") as f:\n",
    "#     encoder = pickle.load(f)\n",
    "\n",
    "N_EPOCHS = 30\n",
    "decoder = SequentialDecoder(game_embed=512, hidden_sizes=[256,256,128], emb_size=32).to(device)\n",
    "optimizer = torch.optim.Adam(encoder.parameters())"
   ]
  },
  {
   "cell_type": "code",
   "execution_count": 109,
   "metadata": {},
   "outputs": [
    {
     "name": "stderr",
     "output_type": "stream",
     "text": [
      "1546it [00:07, 202.07it/s]\n",
      "1546it [00:06, 233.39it/s]\n",
      "1546it [00:07, 212.28it/s]\n",
      "1546it [00:06, 231.20it/s]\n",
      "1546it [00:06, 222.21it/s]\n",
      "1546it [00:08, 187.99it/s]\n",
      "1546it [00:06, 238.07it/s]\n",
      "1546it [00:07, 202.84it/s]\n",
      "1546it [00:06, 231.58it/s]\n",
      "1546it [00:06, 221.83it/s]\n",
      "1546it [00:09, 169.64it/s]\n",
      "1546it [00:06, 224.13it/s]\n",
      "1546it [00:08, 180.40it/s]\n",
      "1546it [00:10, 143.76it/s]\n",
      "1546it [00:10, 144.51it/s]\n",
      "1546it [00:10, 144.94it/s]\n",
      "1546it [00:10, 143.47it/s]\n",
      "1546it [00:10, 140.77it/s]\n",
      "1546it [00:10, 143.20it/s]\n",
      "1546it [00:10, 141.17it/s]\n",
      "1546it [00:10, 142.71it/s]\n",
      "1546it [00:10, 143.94it/s]\n",
      "1546it [00:10, 143.66it/s]\n",
      "1546it [00:10, 150.33it/s]\n",
      "1546it [00:10, 152.46it/s]\n",
      "1546it [00:09, 155.33it/s]\n",
      "1546it [00:10, 154.50it/s]\n",
      "1546it [00:09, 157.34it/s]\n",
      "1546it [00:09, 163.44it/s]\n",
      "1546it [00:09, 171.76it/s]\n"
     ]
    }
   ],
   "source": [
    "loss_mean, total_loss, decoder = fit(\n",
    "    encoder=encoder,\n",
    "    decoder=decoder,\n",
    "    X_train=X_train,\n",
    "    X_lasts=X_lasts,\n",
    "    Y_train=Y_train,\n",
    "    optimizer=optimizer,\n",
    "    epochs=N_EPOCHS,\n",
    ")"
   ]
  },
  {
   "cell_type": "code",
   "execution_count": 110,
   "metadata": {},
   "outputs": [
    {
     "data": {
      "image/png": "[encoded data removed]",
      "text/plain": [
       "<Figure size 640x480 with 1 Axes>"
      ]
     },
     "metadata": {},
     "output_type": "display_data"
    }
   ],
   "source": [
    "import matplotlib.pyplot as plt\n",
    "\n",
    "ys = loss_mean\n",
    "xs = [x for x in range(len(ys))]\n",
    "\n",
    "plt.plot(xs, ys)\n",
    "plt.savefig(os.path.join(\"..\", \"data\",\"loss.png\"))\n",
    "plt.show()\n"
   ]
  },
  {
   "cell_type": "code",
   "execution_count": 88,
   "metadata": {},
   "outputs": [],
   "source": [
    "with open(os.path.join(\"..\", \"data\", f\"decoder_{N_EPOCHS}.pkl\"), \"wb\") as f:\n",
    "    pickle.dump(decoder, f)"
   ]
  },
  {
   "cell_type": "markdown",
   "metadata": {},
   "source": [
    "Prediction function"
   ]
  },
  {
   "cell_type": "code",
   "execution_count": 95,
   "metadata": {},
   "outputs": [],
   "source": [
    "def predict_for_user(user_seq, games_embeds, encoder, decoder):\n",
    "    encoder.eval()\n",
    "    decoder.eval()\n",
    "    encoder.to(device)\n",
    "    decoder.to(device)\n",
    "    games_preds = []\n",
    "    with torch.no_grad():\n",
    "        user_embed = encoder(user_seq.to(device))\n",
    "        for game in games_embeds:\n",
    "            # result = tensors_prep(user_embed, game)\n",
    "            game_embedding = game.reshape(-1).to(device)\n",
    "            result = torch.cat((user_embed, game_embedding), dim=0)\n",
    "            y_pred = decoder(result)\n",
    "            games_preds.append(y_pred)\n",
    "\n",
    "    max_idx = games_preds.index(max(games_preds))\n",
    "    return games_embeds[max_idx]"
   ]
  },
  {
   "cell_type": "code",
   "execution_count": 96,
   "metadata": {},
   "outputs": [],
   "source": [
    "def predict_on_test(X_test, X_last, encoder, decoder, game_embeds, games_list):\n",
    "    y_preds = []\n",
    "    print(type(X_last[0]))\n",
    "    for x in X_test:\n",
    "        game = predict_for_user(x, game_embeds, encoder, decoder)\n",
    "        y_preds.append(game.cpu().numpy())\n",
    "    \n",
    "    y_pred,y_true =[], []\n",
    "    for pred, y in zip(y_preds, X_last):\n",
    "\n",
    "        if np.all(pred == y):\n",
    "            y_true.append(1)\n",
    "            y_pred.append(1)\n",
    "        else:\n",
    "            y_true.append(1)\n",
    "            y_pred.append(0)\n",
    "\n",
    "    print(f\"Accuracy: {accuracy_score(y_true, y_pred)}\")\n",
    "    print(f\"Precision: {precision_score(y_true, y_pred)}\")\n",
    "    print(f\"Recall: { recall_score(y_true, y_pred)}\")\n",
    "    print(f\"F1 score: {f1_score(y_true, y_pred)}\")\n",
    "    # print(f\"Confucion matrix: \" + confusion_matrix(y_true, y_pred))"
   ]
  },
  {
   "cell_type": "code",
   "execution_count": 97,
   "metadata": {},
   "outputs": [],
   "source": [
    "X_test = np.concatenate((X_test_pos, X_test_neg), axis=0)\n",
    "X_test_last = np.concatenate((x_last_test_pos, x_last_test_neg), axis=0)"
   ]
  },
  {
   "cell_type": "code",
   "execution_count": 98,
   "metadata": {},
   "outputs": [],
   "source": [
    "with open(os.path.join(\"..\", \"data\",'x_test.npy'), 'wb') as f:\n",
    "    np.save(f, X_test)\n",
    "\n",
    "with open(os.path.join(\"..\", \"data\",'x_test_last.npy'), 'wb') as f:\n",
    "    np.save(f, X_test_last)"
   ]
  },
  {
   "cell_type": "code",
   "execution_count": 99,
   "metadata": {},
   "outputs": [],
   "source": [
    "# with open(os.path.join(\"..\", \"data\", f\"encoder_20.pkl\"), \"rb\") as f:\n",
    "#     encoder = pickle.load(f)\n",
    "# with open(os.path.join(\"..\", \"data\", f\"decoder_20.pkl\"), \"rb\") as f:\n",
    "#     decoder = pickle.load(f)\n",
    "\n",
    "games_list = list(set(games_list))\n",
    "games_embeds = []\n",
    "for game in games_list:\n",
    "    games_embeds.append(items_embs[game].to(device))"
   ]
  },
  {
   "cell_type": "code",
   "execution_count": 100,
   "metadata": {},
   "outputs": [
    {
     "name": "stdout",
     "output_type": "stream",
     "text": [
      "<class 'numpy.ndarray'>\n",
      "Accuracy: 0.0\n",
      "Precision: 0.0\n",
      "Recall: 0.0\n",
      "F1 score: 0.0\n"
     ]
    },
    {
     "name": "stderr",
     "output_type": "stream",
     "text": [
      "c:\\Users\\julia\\Desktop\\sem2\\analiza_mediów\\amc_env\\lib\\site-packages\\sklearn\\metrics\\_classification.py:1469: UndefinedMetricWarning: Precision is ill-defined and being set to 0.0 due to no predicted samples. Use `zero_division` parameter to control this behavior.\n",
      "  _warn_prf(average, modifier, msg_start, len(result))\n"
     ]
    }
   ],
   "source": [
    "predict_on_test(\n",
    "    encoder=encoder,\n",
    "    decoder=decoder,\n",
    "    X_test=X_test,\n",
    "    X_last=X_test_last,\n",
    "    game_embeds=games_embeds,\n",
    "    games_list=games_list,\n",
    ")"
   ]
  },
  {
   "cell_type": "code",
   "execution_count": null,
   "metadata": {},
   "outputs": [],
   "source": []
  }
 ],
 "metadata": {
  "kernelspec": {
   "display_name": "Python 3 (ipykernel)",
   "language": "python",
   "name": "python3"
  },
  "language_info": {
   "codemirror_mode": {
    "name": "ipython",
    "version": 3
   },
   "file_extension": ".py",
   "mimetype": "text/x-python",
   "name": "python",
   "nbconvert_exporter": "python",
   "pygments_lexer": "ipython3",
   "version": "3.9.0"
  }
 },
 "nbformat": 4,
 "nbformat_minor": 5
}
