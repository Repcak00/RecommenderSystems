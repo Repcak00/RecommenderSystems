{
 "cells": [
  {
   "cell_type": "code",
   "execution_count": 23,
   "metadata": {},
   "outputs": [],
   "source": [
    "import os\n",
    "import datetime as dt\n",
    "import pickle\n",
    "import numpy as np\n",
    "import pandas as pd\n",
    "import matplotlib.pyplot as plt\n",
    "\n",
    "import torch\n",
    "import torch.nn as nn\n",
    "from sklearn.decomposition import PCA\n",
    "from sklearn.metrics import (\n",
    "    accuracy_score,\n",
    "    precision_score,\n",
    "    f1_score,\n",
    "    recall_score,\n",
    ")\n",
    "from sklearn.manifold import TSNE"
   ]
  },
  {
   "cell_type": "markdown",
   "metadata": {},
   "source": [
    "Data preparation"
   ]
  },
  {
   "cell_type": "code",
   "execution_count": 24,
   "metadata": {},
   "outputs": [],
   "source": [
    "users_items = pd.read_json(\"../data/limited_10_3_sweaters_reviews_sentiment.json\")"
   ]
  },
  {
   "cell_type": "code",
   "execution_count": 25,
   "metadata": {},
   "outputs": [],
   "source": [
    "dt.datetime.fromtimestamp(users_items[\"unixReviewTime\"].iloc[0] // 1000)\n",
    "month_season_dict = {\n",
    "    1: 0,\n",
    "    2: 0,\n",
    "    3: 1,\n",
    "    4: 1,\n",
    "    5: 1,\n",
    "    6: 2,\n",
    "    7: 2,\n",
    "    8: 2,\n",
    "    9: 3,\n",
    "    10: 3,\n",
    "    11: 3,\n",
    "    12: 0,\n",
    "}\n",
    "users_items[\"season\"] = users_items[\"unixReviewTime\"].apply(\n",
    "    lambda x: month_season_dict[dt.datetime.fromtimestamp(x // 1000).month]\n",
    ")\n",
    "games_list = users_items[\"item_id\"].tolist()\n",
    "users_items = users_items[users_items[\"sentiment\"] != 0]\n",
    "negative = users_items[users_items[\"sentiment\"] == -2]\n",
    "users_items = users_items[users_items[\"sentiment\"] != -2]\n",
    "grouped = users_items.groupby(\"reviewer_id\").size().reset_index(name=\"counts\")\n",
    "grouped = grouped[grouped[\"counts\"] >= 4]\n",
    "active_users = grouped[\"reviewer_id\"].values.tolist()\n",
    "users_items = users_items[users_items[\"reviewer_id\"].isin(active_users)]"
   ]
  },
  {
   "cell_type": "markdown",
   "metadata": {},
   "source": [
    "Encoder architecture"
   ]
  },
  {
   "cell_type": "code",
   "execution_count": 26,
   "metadata": {},
   "outputs": [],
   "source": [
    "class SequentialEncoder(nn.Module):\n",
    "    def __init__(\n",
    "        self,\n",
    "        input_size: int,\n",
    "        hidden_sizes: list[int],\n",
    "        output_emb_size: int,\n",
    "    ):\n",
    "        super().__init__()\n",
    "        self.lstm = nn.LSTM(input_size, hidden_sizes[0])\n",
    "        layers = []\n",
    "        for in_size, out_size in zip(hidden_sizes[:-1], hidden_sizes[1:]):\n",
    "            layers.append(nn.Linear(in_size, out_size))\n",
    "            layers.append(nn.ReLU())\n",
    "        layers.append(nn.Linear(hidden_sizes[-1], output_emb_size))\n",
    "\n",
    "        self.mlp = nn.Sequential(*layers)\n",
    "\n",
    "    def forward(self, x: torch.Tensor) -> torch.Tensor:\n",
    "        x = self.lstm.forward(x)[1][0]\n",
    "        x = torch.squeeze(x)\n",
    "        return self.mlp(x)"
   ]
  },
  {
   "cell_type": "markdown",
   "metadata": {},
   "source": [
    "Decoder architecture"
   ]
  },
  {
   "cell_type": "code",
   "execution_count": 27,
   "metadata": {},
   "outputs": [],
   "source": [
    "class SequentialDecoder(nn.Module):\n",
    "    def __init__(self, game_embed=512, hidden_sizes=[256, 128], emb_size=32):\n",
    "        super().__init__()\n",
    "        layers = []\n",
    "        for in_size, out_size in zip(\n",
    "            [emb_size + game_embed] + hidden_sizes[:-1], hidden_sizes\n",
    "        ):\n",
    "            layers.append(nn.Linear(in_size, out_size))\n",
    "            layers.append(nn.ReLU())\n",
    "            layers.append(nn.Dropout(0.2))\n",
    "\n",
    "        layers.append(nn.Linear(hidden_sizes[-1], 1))\n",
    "        layers.append(nn.Sigmoid())\n",
    "        self.sequence = nn.Sequential(*layers)\n",
    "\n",
    "    def forward(self, x: torch.Tensor) -> torch.Tensor:\n",
    "        return self.sequence(x)"
   ]
  },
  {
   "cell_type": "code",
   "execution_count": 28,
   "metadata": {},
   "outputs": [],
   "source": [
    "device = torch.device(\"cuda\")"
   ]
  },
  {
   "cell_type": "code",
   "execution_count": 29,
   "metadata": {},
   "outputs": [],
   "source": [
    "items_embs_path = os.path.join(\"..\", \"data\", \"items_embs.pickle\")\n",
    "if os.path.isfile(items_embs_path):\n",
    "    with open(items_embs_path, \"rb\") as f:\n",
    "        items_embs = pickle.load(f)\n",
    "\n",
    "with open(os.path.join(\"..\", \"data\", \"encoder_30.pkl\"), \"rb\") as f:\n",
    "    encoder = pickle.load(f)\n",
    "    encoder.to(device)\n",
    "with open(os.path.join(\"..\", \"data\", \"decoder_20.pkl\"), \"rb\") as f:\n",
    "    decoder = pickle.load(f)\n",
    "    decoder.to(device)\n",
    "with open(os.path.join(\"..\", \"data\",'x_test.npy'), 'rb') as f:\n",
    "    X_test= np.load(f,allow_pickle=True)\n",
    "\n",
    "with open(os.path.join(\"..\", \"data\",'x_test_last.npy'), 'rb') as f:\n",
    "    X_test_last =np.load(f,allow_pickle=True)"
   ]
  },
  {
   "cell_type": "code",
   "execution_count": 30,
   "metadata": {},
   "outputs": [],
   "source": [
    "games_list = list(set(games_list))\n",
    "games_embeds = []\n",
    "for game in games_list:\n",
    "    games_embeds.append(items_embs[game].to(device))"
   ]
  },
  {
   "cell_type": "code",
   "execution_count": 31,
   "metadata": {},
   "outputs": [],
   "source": [
    "def predict_for_user(user_seq, games_embeds, encoder, decoder):\n",
    "    games_preds = []\n",
    "    with torch.no_grad():\n",
    "        user_embed = encoder(user_seq.to(device))\n",
    "        for game in games_embeds:\n",
    "            game_embedding = game.reshape(-1).to(device)\n",
    "            result = torch.cat((user_embed, game_embedding), dim=0)\n",
    "            y_pred = decoder(result)\n",
    "            games_preds.append(y_pred)\n",
    "\n",
    "    max_idx = games_preds.index(max(games_preds))\n",
    "    return games_embeds[max_idx]"
   ]
  },
  {
   "cell_type": "code",
   "execution_count": 32,
   "metadata": {},
   "outputs": [],
   "source": [
    "def predict_on_test(X_test, X_last, encoder, decoder, game_embeds, games_list):\n",
    "    y_preds = []\n",
    "    for x in X_test:\n",
    "        game = predict_for_user(x, game_embeds, encoder, decoder)\n",
    "        y_preds.append(game.cpu().numpy())\n",
    "    \n",
    "    y_pred,y_true =[], []\n",
    "    for pred, y in zip(y_preds, X_last):\n",
    "\n",
    "        if np.all(pred == y):\n",
    "            y_true.append(1)\n",
    "            y_pred.append(1)\n",
    "        else:\n",
    "            y_true.append(1)\n",
    "            y_pred.append(0)\n",
    "\n",
    "    print(f\"Accuracy: {accuracy_score(y_true, y_pred)}\")\n",
    "    print(f\"Precision: {precision_score(y_true, y_pred)}\")\n",
    "    print(f\"Recall: { recall_score(y_true, y_pred)}\")\n",
    "    print(f\"F1 score: {f1_score(y_true, y_pred)}\")"
   ]
  },
  {
   "cell_type": "markdown",
   "metadata": {},
   "source": [
    "## Presentation\n"
   ]
  },
  {
   "cell_type": "markdown",
   "metadata": {},
   "source": [
    "General model \n"
   ]
  },
  {
   "cell_type": "markdown",
   "metadata": {},
   "source": [
    "![](model.png \"T\")"
   ]
  },
  {
   "cell_type": "markdown",
   "metadata": {},
   "source": [
    "Encoder and sequence representation"
   ]
  },
  {
   "cell_type": "code",
   "execution_count": 33,
   "metadata": {},
   "outputs": [
    {
     "data": {
      "text/plain": [
       "SequentialEncoder(\n",
       "  (lstm): LSTM(516, 256)\n",
       "  (mlp): Sequential(\n",
       "    (0): Linear(in_features=256, out_features=128, bias=True)\n",
       "    (1): ReLU()\n",
       "    (2): Linear(in_features=128, out_features=32, bias=True)\n",
       "  )\n",
       ")"
      ]
     },
     "execution_count": 33,
     "metadata": {},
     "output_type": "execute_result"
    }
   ],
   "source": [
    "encoder = encoder.eval()\n",
    "representations = [encoder(x.to(device)) for x in X_test]\n",
    "representations = torch.stack(representations)\n",
    "encoder "
   ]
  },
  {
   "cell_type": "code",
   "execution_count": 34,
   "metadata": {},
   "outputs": [
    {
     "data": {
      "image/png": "[encoded data removed]",
      "text/plain": [
       "<Figure size 640x480 with 1 Axes>"
      ]
     },
     "metadata": {},
     "output_type": "display_data"
    }
   ],
   "source": [
    "pca = PCA(n_components=2)\n",
    "representations_pca = pca.fit_transform(representations.detach().cpu().numpy())\n",
    "\n",
    "plt.scatter(representations_pca[:, 0], representations_pca[:, 1])\n",
    "plt.title(\"Sequential representations of users\\n(PCA view)\")\n",
    "plt.show()"
   ]
  },
  {
   "cell_type": "code",
   "execution_count": 35,
   "metadata": {},
   "outputs": [
    {
     "data": {
      "image/png": "[encoded data removed]",
      "text/plain": [
       "<Figure size 640x480 with 1 Axes>"
      ]
     },
     "metadata": {},
     "output_type": "display_data"
    }
   ],
   "source": [
    "tsne = TSNE(n_components=2)\n",
    "representations_tsne = tsne.fit_transform(representations.detach().cpu().numpy())\n",
    "\n",
    "plt.scatter(representations_tsne[:, 0], representations_pca[:, 1])\n",
    "plt.title(\"Sequential representations of users\\n(TSNE view)\")\n",
    "plt.show()"
   ]
  },
  {
   "cell_type": "markdown",
   "metadata": {},
   "source": [
    "Decoder"
   ]
  },
  {
   "cell_type": "code",
   "execution_count": 36,
   "metadata": {},
   "outputs": [
    {
     "data": {
      "text/plain": [
       "SequentialDecoder(\n",
       "  (sequence): Sequential(\n",
       "    (0): Linear(in_features=544, out_features=256, bias=True)\n",
       "    (1): ReLU()\n",
       "    (2): Dropout(p=0.2, inplace=False)\n",
       "    (3): Linear(in_features=256, out_features=256, bias=True)\n",
       "    (4): ReLU()\n",
       "    (5): Dropout(p=0.2, inplace=False)\n",
       "    (6): Linear(in_features=256, out_features=256, bias=True)\n",
       "    (7): ReLU()\n",
       "    (8): Dropout(p=0.2, inplace=False)\n",
       "    (9): Linear(in_features=256, out_features=1, bias=True)\n",
       "    (10): Sigmoid()\n",
       "  )\n",
       ")"
      ]
     },
     "execution_count": 36,
     "metadata": {},
     "output_type": "execute_result"
    }
   ],
   "source": [
    "decoder"
   ]
  },
  {
   "cell_type": "markdown",
   "metadata": {},
   "source": [
    "Loss through training"
   ]
  },
  {
   "cell_type": "markdown",
   "metadata": {},
   "source": [
    "![](loss.png \"T\")"
   ]
  },
  {
   "cell_type": "markdown",
   "metadata": {},
   "source": [
    "Encoder Decoder cobination:"
   ]
  },
  {
   "cell_type": "markdown",
   "metadata": {},
   "source": [
    "![](new_usr.png \"T\")"
   ]
  },
  {
   "cell_type": "code",
   "execution_count": 22,
   "metadata": {},
   "outputs": [
    {
     "name": "stdout",
     "output_type": "stream",
     "text": [
      "Accuracy: 0.04046242774566474\n",
      "Precision: 1.0\n",
      "Recall: 0.04046242774566474\n",
      "F1 score: 0.07777777777777778\n"
     ]
    }
   ],
   "source": [
    "predict_on_test(\n",
    "    encoder=encoder,\n",
    "    decoder=decoder,\n",
    "    X_test=X_test,\n",
    "    X_last=X_test_last,\n",
    "    game_embeds=games_embeds,\n",
    "    games_list=games_list,\n",
    ")"
   ]
  },
  {
   "cell_type": "code",
   "execution_count": null,
   "metadata": {},
   "outputs": [],
   "source": []
  }
 ],
 "metadata": {
  "kernelspec": {
   "display_name": "Python 3 (ipykernel)",
   "language": "python",
   "name": "python3"
  },
  "language_info": {
   "codemirror_mode": {
    "name": "ipython",
    "version": 3
   },
   "file_extension": ".py",
   "mimetype": "text/x-python",
   "name": "python",
   "nbconvert_exporter": "python",
   "pygments_lexer": "ipython3",
   "version": "3.10.11"
  }
 },
 "nbformat": 4,
 "nbformat_minor": 4
}
