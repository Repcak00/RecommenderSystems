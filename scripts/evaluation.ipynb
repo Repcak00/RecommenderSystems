{
 "cells": [
  {
   "cell_type": "code",
   "execution_count": 1,
   "id": "f2a08fdb575bcc65",
   "metadata": {
    "collapsed": false,
    "ExecuteTime": {
     "end_time": "2023-11-14T12:45:29.765562500Z",
     "start_time": "2023-11-14T12:45:13.537936Z"
    }
   },
   "outputs": [],
   "source": [
    "import os\n",
    "import pandas as pd\n",
    "import pickle\n",
    "from sklearn.preprocessing import MinMaxScaler\n",
    "from scripts.collaborative_recommendations import (\n",
    "    get_recommendation_collaborative,\n",
    "    measure_distances_indices_collaborative,\n",
    ")\n",
    "import numpy as np\n",
    "import torchvision.transforms as tt\n",
    "import torch\n",
    "from evaluate_functions import (\n",
    "    calculate_mrr,\n",
    "    calculate_map,\n",
    "    calculate_ndcg,\n",
    "    get_table_results,\n",
    "    get_user_item_preds,\n",
    "    get_user_images,\n",
    ")\n",
    "from torch.utils.tensorboard import SummaryWriter\n",
    "from torch.utils.data import DataLoader\n",
    "from scripts.DNN_predicter import TrainDataset, ResnetEmbeddings, PredictionModel"
   ]
  },
  {
   "cell_type": "code",
   "execution_count": 2,
   "id": "initial_id",
   "metadata": {
    "collapsed": true,
    "jupyter": {
     "outputs_hidden": true
    },
    "ExecuteTime": {
     "end_time": "2023-11-14T12:45:43.947503Z",
     "start_time": "2023-11-14T12:45:43.931886700Z"
    }
   },
   "outputs": [],
   "source": [
    "cwd = os.getcwd()\n",
    "parent_directory = os.path.abspath(os.path.join(cwd, os.pardir))\n",
    "data_directory = os.path.join(parent_directory, \"data\")"
   ]
  },
  {
   "cell_type": "code",
   "execution_count": 3,
   "id": "f5d99546bff5b13c",
   "metadata": {
    "collapsed": false,
    "ExecuteTime": {
     "end_time": "2023-11-14T12:45:44.616299900Z",
     "start_time": "2023-11-14T12:45:44.175033600Z"
    }
   },
   "outputs": [],
   "source": [
    "df_test = pd.read_json(\n",
    "    os.path.join(data_directory, \"limited_10_3_sweaters_reviews_sentiment_test.json\"),\n",
    "    orient=\"split\",\n",
    ")\n",
    "df_train = pd.read_json(\n",
    "    os.path.join(data_directory, \"limited_10_3_sweaters_reviews_sentiment_train.json\"),\n",
    "    orient=\"split\",\n",
    ")\n",
    "melted_df_test = pd.melt(\n",
    "    df_test.reset_index(), id_vars=\"index\", value_vars=df_test.columns\n",
    ")\n",
    "melted_df_test.columns = [\"user_id\", \"item_id\", \"sentiment\"]\n",
    "melted_df_test = melted_df_test[melted_df_test[\"sentiment\"] != -1].reset_index(\n",
    "    drop=True\n",
    ")"
   ]
  },
  {
   "cell_type": "code",
   "execution_count": 4,
   "id": "522bbbb54c323848",
   "metadata": {
    "collapsed": false,
    "ExecuteTime": {
     "end_time": "2023-11-14T12:45:44.616299900Z",
     "start_time": "2023-11-14T12:45:44.553795100Z"
    }
   },
   "outputs": [],
   "source": [
    "pictures_dir = os.path.join(data_directory, \"sweater_pics\")\n",
    "image_size = 480\n",
    "stats = (0.5, 0.5, 0.5), (0.5, 0.5, 0.5)"
   ]
  },
  {
   "cell_type": "code",
   "execution_count": 5,
   "id": "4fec1355b60972b8",
   "metadata": {
    "collapsed": false,
    "ExecuteTime": {
     "end_time": "2023-11-14T12:45:44.616299900Z",
     "start_time": "2023-11-14T12:45:44.569421400Z"
    }
   },
   "outputs": [],
   "source": [
    "scaler = MinMaxScaler(feature_range=(0, 1))\n",
    "melted_df_test[\"sentiment\"] = scaler.fit_transform(\n",
    "    melted_df_test.sentiment.values.reshape(-1, 1)\n",
    ")"
   ]
  },
  {
   "cell_type": "code",
   "execution_count": 6,
   "id": "160ff72a973a849",
   "metadata": {
    "collapsed": false,
    "ExecuteTime": {
     "end_time": "2023-11-14T12:45:44.803795600Z",
     "start_time": "2023-11-14T12:45:44.772545700Z"
    }
   },
   "outputs": [],
   "source": [
    "users_to_analyze = list(set(df_test.index.unique()) & set(df_train.index.unique()))"
   ]
  },
  {
   "cell_type": "code",
   "execution_count": 7,
   "id": "c80ba7baddfbd4a8",
   "metadata": {
    "collapsed": false,
    "ExecuteTime": {
     "end_time": "2023-11-14T12:45:45.641956200Z",
     "start_time": "2023-11-14T12:45:45.609958400Z"
    }
   },
   "outputs": [],
   "source": [
    "df_analyze = df_test[df_test.index.isin(users_to_analyze)]"
   ]
  },
  {
   "cell_type": "code",
   "execution_count": 8,
   "id": "9359500f4f43ad5f",
   "metadata": {
    "collapsed": false,
    "ExecuteTime": {
     "end_time": "2023-11-14T12:45:47.096479800Z",
     "start_time": "2023-11-14T12:45:46.972480900Z"
    }
   },
   "outputs": [],
   "source": [
    "melted_df_analyze = pd.melt(\n",
    "    df_analyze.reset_index(), id_vars=\"index\", value_vars=df_analyze.columns\n",
    ")\n",
    "melted_df_analyze = melted_df_analyze[melted_df_analyze[\"value\"] != -1].reset_index(\n",
    "    drop=True\n",
    ")\n",
    "melted_df_analyze.columns = [\"user_id\", \"item_id\", \"sentiment\"]"
   ]
  },
  {
   "cell_type": "markdown",
   "id": "4264e4c37a214ab",
   "metadata": {
    "collapsed": false
   },
   "source": [
    "# Poniższa tabela informuje nas o przedmiotach które kupili użytkownicy."
   ]
  },
  {
   "cell_type": "code",
   "execution_count": 9,
   "id": "9c8fbd2ce6a43ecf",
   "metadata": {
    "collapsed": false,
    "ExecuteTime": {
     "end_time": "2023-11-14T12:45:47.664478900Z",
     "start_time": "2023-11-14T12:45:47.395480100Z"
    }
   },
   "outputs": [],
   "source": [
    "positive_sentiments_df = melted_df_analyze[melted_df_analyze[\"sentiment\"] > 0]\n",
    "user_target_items = (\n",
    "    positive_sentiments_df.groupby(\"user_id\")[\"item_id\"].unique().to_frame()\n",
    ")"
   ]
  },
  {
   "cell_type": "code",
   "execution_count": 10,
   "id": "47afdd5da4fc83de",
   "metadata": {
    "collapsed": false,
    "ExecuteTime": {
     "end_time": "2023-11-14T12:45:48.163481500Z",
     "start_time": "2023-11-14T12:45:47.543479Z"
    }
   },
   "outputs": [
    {
     "data": {
      "text/plain": "                                 item_id\nuser_id                                 \nA103Y1M1F27V4C              [B00CWDV8VI]\nA11JVD2EWWTFNJ  [B00CMXZHP6, B01FD285DS]\nA135FN638AZOYG              [B01ATZ0DXY]\nA13UG665AR8LCV              [B00WIVQ738]\nA14T6K6RWUEMVE              [B013HOCKWQ]",
      "text/html": "<div>\n<style scoped>\n    .dataframe tbody tr th:only-of-type {\n        vertical-align: middle;\n    }\n\n    .dataframe tbody tr th {\n        vertical-align: top;\n    }\n\n    .dataframe thead th {\n        text-align: right;\n    }\n</style>\n<table border=\"1\" class=\"dataframe\">\n  <thead>\n    <tr style=\"text-align: right;\">\n      <th></th>\n      <th>item_id</th>\n    </tr>\n    <tr>\n      <th>user_id</th>\n      <th></th>\n    </tr>\n  </thead>\n  <tbody>\n    <tr>\n      <th>A103Y1M1F27V4C</th>\n      <td>[B00CWDV8VI]</td>\n    </tr>\n    <tr>\n      <th>A11JVD2EWWTFNJ</th>\n      <td>[B00CMXZHP6, B01FD285DS]</td>\n    </tr>\n    <tr>\n      <th>A135FN638AZOYG</th>\n      <td>[B01ATZ0DXY]</td>\n    </tr>\n    <tr>\n      <th>A13UG665AR8LCV</th>\n      <td>[B00WIVQ738]</td>\n    </tr>\n    <tr>\n      <th>A14T6K6RWUEMVE</th>\n      <td>[B013HOCKWQ]</td>\n    </tr>\n  </tbody>\n</table>\n</div>"
     },
     "execution_count": 10,
     "metadata": {},
     "output_type": "execute_result"
    }
   ],
   "source": [
    "user_target_items.head()"
   ]
  },
  {
   "cell_type": "markdown",
   "id": "64d6677b3643a337",
   "metadata": {
    "collapsed": false
   },
   "source": [
    "# Założenia systemu.\n",
    "## Dane \n",
    "- zostały wykorzystane dane z platformy Amazon. Dane zostały oczyszczone z wartości nieprawidłowych\n",
    "- każdy przedmiot musiał mieć min. 10 recenzji\n",
    "- każdy użytkownik wystawił więcej niż 3 recenzje unikatowym produktom\n",
    "- przedmioty zostały 'odfiltrowane' na podstawie liczby użytkowników, którzy je zakupili\n",
    "- dane zostały podzielone na treningowe i testowe przed treningiem, aby zapobiec wyciekowi danych\n",
    "- original: 73675 recenzji, 2684 przedmiotów\n",
    "- uzyskano dane postaci: 2691 recenzji, 743 przedmiotów \n",
    "\n",
    "## System zbudowany sekwencyjnie na podstawie poniższych modalności:\n",
    "- tekst Review użytkowników na temat zakupionych ubrań\n",
    "- na podstawie tekstu za pomocą modelu głębokiego uzyskano sentyment każdej z wypowiedzi\n",
    "- sentyment został zmapowany na wartości liczbowe\n",
    "- została wygenerowana tabela, gdzie w kolejnych wierszach znajdowały się ID użytkowników, w kolumnach ID przedmiotów, a wartościami był sentyment\n",
    "- tak tabelę wykorzystano do wyznaczenia najbliższych sąsiadów dla danego użytkownika\n",
    "- collaboratywna część systemu zwraca zadaną liczbę rekomendacji w oparciu o miarę cosinusową\n",
    "- kolejnym komponentu systemu jest głęboka sieć neuronowa, której zadaniem jest stworzenie rankingu wśród już zaproponowanych przez część collaboratywną przedmiotów\n",
    "- wejściem sieci jest ID użytkownika i obrazek przedmiotu, dla którego chcemy poznać wartość prawdopodobieństwa, że użytkownikowi spodoba się dany przedmiot\n",
    "- przykład uczący wyglądał następująco: user_id, image -> sentiment (w skali od 0 do 1)\n",
    "- sieć nauczyła się embeddingów użytkowników\n",
    "- komponentem sieci był ResNet pozbawiony warstwy klasyfikacyjnej\n",
    "- dla każdego zarekomendowanego z poprzedniego kroku przedmiotu uzyskiwano prawdopodobieństwo, że użytkownikowi spodoba się przedmiot\n",
    "- sortowano rekomendacje malejąco\n",
    "- tak uzyskany ranking był rankingiem ostatecznym"
   ]
  },
  {
   "cell_type": "markdown",
   "id": "b292273cf24b8d7b",
   "metadata": {
    "collapsed": false
   },
   "source": [
    "# Przebadanie działania części z collaboratywnym filtrowaniem"
   ]
  },
  {
   "cell_type": "code",
   "execution_count": 11,
   "id": "a9809a753e5e15b5",
   "metadata": {
    "collapsed": false,
    "ExecuteTime": {
     "end_time": "2023-11-14T12:45:48.552477100Z",
     "start_time": "2023-11-14T12:45:48.384480700Z"
    }
   },
   "outputs": [
    {
     "name": "stdout",
     "output_type": "stream",
     "text": [
      "CUDA is available!\n"
     ]
    }
   ],
   "source": [
    "if torch.cuda.is_available():\n",
    "    device = torch.device(\"cuda\")\n",
    "    print(\"CUDA is available!\")\n",
    "else:\n",
    "    device = torch.device(\"cpu\")\n",
    "    print(\"CUDA is not available! Using CPU\")"
   ]
  },
  {
   "cell_type": "code",
   "execution_count": 12,
   "id": "1f9b2d1d5324d303",
   "metadata": {
    "collapsed": false,
    "ExecuteTime": {
     "end_time": "2023-11-14T12:45:49.293480Z",
     "start_time": "2023-11-14T12:45:48.825481200Z"
    }
   },
   "outputs": [],
   "source": [
    "distances, indices = measure_distances_indices_collaborative(\n",
    "    df_train, neighbors_to_scoring=20, metric=\"cosine\"\n",
    ")"
   ]
  },
  {
   "cell_type": "code",
   "execution_count": 13,
   "id": "b95fde9911792015",
   "metadata": {
    "collapsed": false,
    "ExecuteTime": {
     "end_time": "2023-11-14T12:45:49.403486600Z",
     "start_time": "2023-11-14T12:45:49.007498600Z"
    }
   },
   "outputs": [],
   "source": [
    "user_target_items_sorted = user_target_items.sort_values(\n",
    "    by=\"item_id\", key=lambda x: x.apply(len), ascending=False\n",
    ")\n",
    "n_items = 8"
   ]
  },
  {
   "cell_type": "code",
   "execution_count": 14,
   "id": "1db215943099a8a2",
   "metadata": {
    "ExecuteTime": {
     "end_time": "2023-11-13T23:17:58.070615900Z",
     "start_time": "2023-11-13T23:17:56.325501700Z"
    },
    "collapsed": false
   },
   "outputs": [
    {
     "name": "stdout",
     "output_type": "stream",
     "text": [
      "Mean Average Precision: 0.018\n"
     ]
    }
   ],
   "source": [
    "mean_map = calculate_map(\n",
    "    df=user_target_items_sorted,\n",
    "    recommendation_function=get_recommendation_collaborative,\n",
    "    n_items=n_items,\n",
    "    distances=distances,\n",
    "    indices=indices,\n",
    ")\n",
    "print(f\"Mean Average Precision: {mean_map}\")"
   ]
  },
  {
   "cell_type": "code",
   "execution_count": 15,
   "id": "7567fd7c2f20641",
   "metadata": {
    "ExecuteTime": {
     "end_time": "2023-11-13T23:17:59.125382800Z",
     "start_time": "2023-11-13T23:17:58.067586Z"
    },
    "collapsed": false
   },
   "outputs": [
    {
     "name": "stdout",
     "output_type": "stream",
     "text": [
      "Mean Reciprocal Rank: 0.069\n"
     ]
    }
   ],
   "source": [
    "mean_mrr = calculate_mrr(\n",
    "    df=user_target_items_sorted,\n",
    "    recommendation_function=get_recommendation_collaborative,\n",
    "    n_items=n_items,\n",
    "    distances=distances,\n",
    "    indices=indices,\n",
    ")\n",
    "print(f\"Mean Reciprocal Rank: {mean_mrr}\")"
   ]
  },
  {
   "cell_type": "code",
   "execution_count": 16,
   "id": "578df41a4da58d86",
   "metadata": {
    "ExecuteTime": {
     "end_time": "2023-11-13T23:17:59.981347200Z",
     "start_time": "2023-11-13T23:17:59.118368900Z"
    },
    "collapsed": false
   },
   "outputs": [
    {
     "name": "stdout",
     "output_type": "stream",
     "text": [
      "Mean Average Precision: 0.018\n"
     ]
    }
   ],
   "source": [
    "ndcg = calculate_ndcg(\n",
    "    df=user_target_items_sorted,\n",
    "    recommendation_function=get_recommendation_collaborative,\n",
    "    n_items=n_items,\n",
    ")\n",
    "print(f\"Mean Average Precision: {mean_map}\")"
   ]
  },
  {
   "cell_type": "markdown",
   "id": "5aaf42164b259669",
   "metadata": {
    "collapsed": false
   },
   "source": [
    "System opiera się na pierwszej części - collaboratywnej. Jej potencjalnie mierne działanie powoduje, że jakość całego systemu jest obniżona. "
   ]
  },
  {
   "cell_type": "markdown",
   "id": "a8ced3d955882769",
   "metadata": {
    "collapsed": false
   },
   "source": [
    "# Trening modelu głębokiego."
   ]
  },
  {
   "cell_type": "code",
   "execution_count": 17,
   "id": "abf53349720103e8",
   "metadata": {
    "ExecuteTime": {
     "end_time": "2023-11-13T23:18:00.684177200Z",
     "start_time": "2023-11-13T23:17:59.963500500Z"
    },
    "collapsed": false
   },
   "outputs": [],
   "source": [
    "n_epochs = 30\n",
    "lr = 0.001\n",
    "model = pickle.load(\n",
    "    open(os.path.join(data_directory, f\"model_{n_epochs}_{lr}.pkl\"), \"rb\")\n",
    ")\n",
    "\n",
    "model.eval();"
   ]
  },
  {
   "cell_type": "code",
   "execution_count": 18,
   "id": "11510772c7582d15",
   "metadata": {
    "ExecuteTime": {
     "end_time": "2023-11-13T23:18:20.338814600Z",
     "start_time": "2023-11-13T23:18:00.686180400Z"
    },
    "collapsed": false
   },
   "outputs": [],
   "source": [
    "log_dir = os.path.join(data_directory, \"logs\")\n",
    "os.makedirs(log_dir, exist_ok=True)\n",
    "writer = SummaryWriter()\n",
    "test_dataset = TrainDataset(\n",
    "    df=melted_df_test,\n",
    "    pictures_dir=pictures_dir,\n",
    "    transfrom=tt.Compose(\n",
    "        [\n",
    "            tt.Resize(image_size),\n",
    "            tt.CenterCrop(image_size),\n",
    "            tt.ToTensor(),\n",
    "            tt.Normalize(*stats),\n",
    "        ]),\n",
    "    image_size=image_size,\n",
    ")\n",
    "batch_size = 16\n",
    "test_loader = DataLoader(test_dataset, batch_size=batch_size, shuffle=True)\n",
    "dataiter = iter(test_loader)\n",
    "images, labels = next(dataiter)\n",
    "writer.add_graph(model.cpu(), images)"
   ]
  },
  {
   "cell_type": "code",
   "execution_count": 19,
   "id": "57e90f7bb2ecf72f",
   "metadata": {
    "ExecuteTime": {
     "end_time": "2023-11-13T23:18:20.470781300Z",
     "start_time": "2023-11-13T23:18:20.340828400Z"
    },
    "collapsed": false
   },
   "outputs": [
    {
     "data": {
      "text/plain": [
       "Launching TensorBoard..."
      ]
     },
     "metadata": {},
     "output_type": "display_data"
    },
    {
     "data": {
      "text/html": [
       "\n",
       "      <iframe id=\"tensorboard-frame-abca9cf5fb596a0c\" width=\"100%\" height=\"800\" frameborder=\"0\">\n",
       "      </iframe>\n",
       "      <script>\n",
       "        (function() {\n",
       "          const frame = document.getElementById(\"tensorboard-frame-abca9cf5fb596a0c\");\n",
       "          const url = new URL(\"/\", window.location);\n",
       "          const port = 6006;\n",
       "          if (port) {\n",
       "            url.port = port;\n",
       "          }\n",
       "          frame.src = url;\n",
       "        })();\n",
       "      </script>\n",
       "    "
      ],
      "text/plain": [
       "<IPython.core.display.HTML object>"
      ]
     },
     "metadata": {},
     "output_type": "display_data"
    }
   ],
   "source": [
    "%load_ext tensorboard\n",
    "%tensorboard --logdir=runs --host localhost --port 6006"
   ]
  },
  {
   "cell_type": "markdown",
   "id": "ee86382ac4e679fe",
   "metadata": {
    "collapsed": false
   },
   "source": [
    "!<img src=\"DNN_architecture.png\">"
   ]
  },
  {
   "cell_type": "markdown",
   "id": "9272bed9001cee0d",
   "metadata": {
    "collapsed": false
   },
   "source": [
    "## Training loss"
   ]
  },
  {
   "cell_type": "markdown",
   "id": "a6381773fe17833c",
   "metadata": {
    "collapsed": false
   },
   "source": [
    "!<img src=\"training_loss_over_epochs_30.png\">"
   ]
  },
  {
   "cell_type": "markdown",
   "id": "7ab18f4d4b9bdce6",
   "metadata": {
    "collapsed": false
   },
   "source": [
    "## Training accuracy"
   ]
  },
  {
   "cell_type": "markdown",
   "id": "7691a14191bb4901",
   "metadata": {
    "collapsed": false
   },
   "source": [
    "!<img src=\"training_accuracy_over_epochs_30.png\">"
   ]
  },
  {
   "cell_type": "markdown",
   "source": [
    "# Testing loss\n",
    "\n",
    "!<img src=\"testing_loss_over_epoch_15.png\">"
   ],
   "metadata": {
    "collapsed": false
   },
   "id": "cca9c7b1ea39636a"
  },
  {
   "cell_type": "markdown",
   "source": [
    "# Testing accuracy\n",
    "!<img src=\"testing_accuracy_over_epoch_15.png\">"
   ],
   "metadata": {
    "collapsed": false
   },
   "id": "f882ca657f623538"
  },
  {
   "cell_type": "markdown",
   "source": [],
   "metadata": {
    "collapsed": false
   },
   "id": "5b5d22fe388c77d1"
  },
  {
   "cell_type": "markdown",
   "source": [
    "# Połączony system."
   ],
   "metadata": {
    "collapsed": false
   },
   "id": "275aebb3e963fe9d"
  },
  {
   "cell_type": "code",
   "execution_count": 20,
   "id": "9ad2242eb488a0e2",
   "metadata": {
    "ExecuteTime": {
     "end_time": "2023-11-13T23:18:20.472780400Z",
     "start_time": "2023-11-13T23:18:20.404634100Z"
    },
    "collapsed": false
   },
   "outputs": [],
   "source": [
    "users_ids = list(user_target_items_sorted.index)"
   ]
  },
  {
   "cell_type": "code",
   "execution_count": 21,
   "id": "97abefff3c037345",
   "metadata": {
    "ExecuteTime": {
     "end_time": "2023-11-13T23:18:22.075867900Z",
     "start_time": "2023-11-13T23:18:20.434948900Z"
    },
    "collapsed": false
   },
   "outputs": [],
   "source": [
    "recommendations = [\n",
    "    get_recommendation_collaborative(df_train, user_id, n_items, distances, indices)\n",
    "    for user_id in users_ids\n",
    "]"
   ]
  },
  {
   "cell_type": "code",
   "execution_count": 22,
   "id": "fdf2bee421816e5b",
   "metadata": {
    "ExecuteTime": {
     "end_time": "2023-11-13T23:18:22.075867900Z",
     "start_time": "2023-11-13T23:18:21.969189400Z"
    },
    "collapsed": false
   },
   "outputs": [],
   "source": [
    "user_index_array = []\n",
    "for user_id in users_ids:\n",
    "    user_index_array.append(model.df_train.index.get_loc(user_id))"
   ]
  },
  {
   "cell_type": "code",
   "execution_count": 23,
   "id": "80f1f7e8b71c66a0",
   "metadata": {
    "ExecuteTime": {
     "end_time": "2023-11-13T23:19:06.676642800Z",
     "start_time": "2023-11-13T23:18:21.985748Z"
    },
    "collapsed": false
   },
   "outputs": [
    {
     "data": {
      "application/vnd.jupyter.widget-view+json": {
       "model_id": "34b273ed65314d809d098fea661668c9",
       "version_major": 2,
       "version_minor": 0
      },
      "text/plain": [
       "Images processed:   0%|          | 0/321 [00:00<?, ?it/s]"
      ]
     },
     "metadata": {},
     "output_type": "display_data"
    }
   ],
   "source": [
    "user_images = get_user_images(\n",
    "    recommendations=recommendations,\n",
    "    pictures_dir=pictures_dir,\n",
    "    transform=tt.Compose(\n",
    "        [\n",
    "            tt.Resize(image_size),\n",
    "            tt.CenterCrop(image_size),\n",
    "            tt.ToTensor(),\n",
    "            tt.Normalize(*stats),\n",
    "        ]\n",
    "    ),\n",
    "    image_size=image_size,\n",
    ")"
   ]
  },
  {
   "cell_type": "code",
   "execution_count": 24,
   "id": "44e89fe7f2c6bcfa",
   "metadata": {
    "ExecuteTime": {
     "end_time": "2023-11-13T23:20:00.012633Z",
     "start_time": "2023-11-13T23:19:06.664468700Z"
    },
    "collapsed": false
   },
   "outputs": [
    {
     "data": {
      "application/vnd.jupyter.widget-view+json": {
       "model_id": "183cbe7b83a6457c9337127482070764",
       "version_major": 2,
       "version_minor": 0
      },
      "text/plain": [
       "Predicter processing:   0%|          | 0/321 [00:00<?, ?it/s]"
      ]
     },
     "metadata": {},
     "output_type": "display_data"
    }
   ],
   "source": [
    "n_users_preds = get_user_item_preds(\n",
    "    user_index_array=user_index_array,\n",
    "    user_images=user_images,\n",
    "    users_ids=users_ids,\n",
    "    model=model.to(device),\n",
    "    device=device,\n",
    ")"
   ]
  },
  {
   "cell_type": "code",
   "execution_count": 25,
   "id": "cc0292368016014d",
   "metadata": {
    "ExecuteTime": {
     "end_time": "2023-11-13T23:20:00.195944200Z",
     "start_time": "2023-11-13T23:20:00.064365300Z"
    },
    "collapsed": false
   },
   "outputs": [],
   "source": [
    "ranking = {\n",
    "    user_id: [item[0] for item in item_list]\n",
    "    for user_id, item_list in n_users_preds.items()\n",
    "}\n",
    "\n",
    "ranking_system = pd.DataFrame(list(ranking.items()), columns=[\"user_id\", \"item_id\"])\n",
    "ranking_system = ranking_system.set_index(\"user_id\")"
   ]
  },
  {
   "cell_type": "code",
   "execution_count": 26,
   "id": "4b683c35bb4a26b3",
   "metadata": {
    "ExecuteTime": {
     "end_time": "2023-11-13T23:20:00.318275500Z",
     "start_time": "2023-11-13T23:20:00.199468200Z"
    },
    "collapsed": false
   },
   "outputs": [
    {
     "data": {
      "text/plain": [
       "0.018"
      ]
     },
     "execution_count": 26,
     "metadata": {},
     "output_type": "execute_result"
    }
   ],
   "source": [
    "calculate_map(\n",
    "    df=user_target_items_sorted,\n",
    "    recommendations=ranking_system,\n",
    "    recommendation_function=None,\n",
    "    n_items=n_items,\n",
    "    distances=distances,\n",
    "    indices=indices,\n",
    ")"
   ]
  },
  {
   "cell_type": "code",
   "execution_count": 27,
   "id": "f974e40f5e318e8b",
   "metadata": {
    "ExecuteTime": {
     "end_time": "2023-11-13T23:20:01.140879100Z",
     "start_time": "2023-11-13T23:20:00.307241100Z"
    },
    "collapsed": false
   },
   "outputs": [
    {
     "data": {
      "text/plain": [
       "0.077"
      ]
     },
     "execution_count": 27,
     "metadata": {},
     "output_type": "execute_result"
    }
   ],
   "source": [
    "calculate_mrr(\n",
    "    df=user_target_items_sorted,\n",
    "    recommendations=ranking_system,\n",
    "    recommendation_function=None,\n",
    "    n_items=n_items,\n",
    "    distances=distances,\n",
    "    indices=indices,\n",
    ")"
   ]
  },
  {
   "cell_type": "code",
   "execution_count": 28,
   "id": "e42f77d5ac19ad0c",
   "metadata": {
    "ExecuteTime": {
     "end_time": "2023-11-13T23:20:01.141882900Z",
     "start_time": "2023-11-13T23:20:00.370795Z"
    },
    "collapsed": false
   },
   "outputs": [
    {
     "data": {
      "text/plain": [
       "0.1"
      ]
     },
     "execution_count": 28,
     "metadata": {},
     "output_type": "execute_result"
    }
   ],
   "source": [
    "calculate_ndcg(\n",
    "    df=user_target_items_sorted,\n",
    "    recommendations=ranking_system,\n",
    "    recommendation_function=None,\n",
    "    n_items=n_items,\n",
    "    distances=distances,\n",
    "    indices=indices,\n",
    ")"
   ]
  },
  {
   "cell_type": "markdown",
   "id": "27e7236ae5086257",
   "metadata": {
    "collapsed": false
   },
   "source": [
    "# Najpopularniejsze przedmioty rekomendowane"
   ]
  },
  {
   "cell_type": "code",
   "execution_count": 29,
   "id": "b7579124c5c3cba9",
   "metadata": {
    "ExecuteTime": {
     "end_time": "2023-11-13T23:20:01.141882900Z",
     "start_time": "2023-11-13T23:20:00.492726700Z"
    },
    "collapsed": false
   },
   "outputs": [],
   "source": [
    "scoring = pd.DataFrame(data=np.sum(df_train, axis=0), columns=[\"score\"]).sort_values(\n",
    "    by=\"score\", ascending=False\n",
    ")\n",
    "recs = scoring.index[:5]"
   ]
  },
  {
   "cell_type": "code",
   "execution_count": 30,
   "id": "2f0f3be64bef9ced",
   "metadata": {
    "ExecuteTime": {
     "end_time": "2023-11-13T23:20:01.141882900Z",
     "start_time": "2023-11-13T23:20:00.579320100Z"
    },
    "collapsed": false
   },
   "outputs": [],
   "source": [
    "most_popular_df = pd.DataFrame(index=ranking_system.index)\n",
    "most_popular_df[\"item_id\"] = [recs.values] * most_popular_df.shape[0]"
   ]
  },
  {
   "cell_type": "code",
   "execution_count": 31,
   "id": "6905cb4a94eba5d8",
   "metadata": {
    "ExecuteTime": {
     "end_time": "2023-11-13T23:20:01.141882900Z",
     "start_time": "2023-11-13T23:20:00.697435200Z"
    },
    "collapsed": false
   },
   "outputs": [
    {
     "data": {
      "text/plain": [
       "0.022"
      ]
     },
     "execution_count": 31,
     "metadata": {},
     "output_type": "execute_result"
    }
   ],
   "source": [
    "calculate_map(\n",
    "    df=user_target_items_sorted,\n",
    "    recommendations=most_popular_df,\n",
    "    recommendation_function=None,\n",
    "    n_items=n_items,\n",
    "    distances=distances,\n",
    "    indices=indices,\n",
    ")"
   ]
  },
  {
   "cell_type": "code",
   "execution_count": 32,
   "id": "198aa3051a2915cf",
   "metadata": {
    "ExecuteTime": {
     "end_time": "2023-11-13T23:20:01.150406200Z",
     "start_time": "2023-11-13T23:20:00.799064300Z"
    },
    "collapsed": false
   },
   "outputs": [
    {
     "data": {
      "text/plain": [
       "0.074"
      ]
     },
     "execution_count": 32,
     "metadata": {},
     "output_type": "execute_result"
    }
   ],
   "source": [
    "calculate_mrr(\n",
    "    df=user_target_items_sorted,\n",
    "    recommendations=most_popular_df,\n",
    "    recommendation_function=None,\n",
    "    n_items=n_items,\n",
    "    distances=distances,\n",
    "    indices=indices,\n",
    ")"
   ]
  },
  {
   "cell_type": "code",
   "execution_count": 33,
   "id": "afc1ec94d665f6d1",
   "metadata": {
    "ExecuteTime": {
     "end_time": "2023-11-13T23:20:01.152443600Z",
     "start_time": "2023-11-13T23:20:00.850956100Z"
    },
    "collapsed": false
   },
   "outputs": [
    {
     "data": {
      "text/plain": [
       "0.097"
      ]
     },
     "execution_count": 33,
     "metadata": {},
     "output_type": "execute_result"
    }
   ],
   "source": [
    "calculate_ndcg(\n",
    "    df=user_target_items_sorted,\n",
    "    recommendations=most_popular_df,\n",
    "    recommendation_function=None,\n",
    "    n_items=n_items,\n",
    "    distances=distances,\n",
    "    indices=indices,\n",
    ")"
   ]
  },
  {
   "cell_type": "markdown",
   "id": "ac3f5e35ede0411a",
   "metadata": {
    "collapsed": false
   },
   "source": [
    "# Przebadanie jak zachowują się wyniki w zależności od ilości rekomendowanych przedmiotów"
   ]
  },
  {
   "cell_type": "code",
   "execution_count": 34,
   "id": "52b45bd9052afc7",
   "metadata": {
    "ExecuteTime": {
     "end_time": "2023-11-13T23:20:02.786504900Z",
     "start_time": "2023-11-13T23:20:00.970024100Z"
    },
    "collapsed": false
   },
   "outputs": [
    {
     "data": {
      "text/html": [
       "<div>\n",
       "<style scoped>\n",
       "    .dataframe tbody tr th:only-of-type {\n",
       "        vertical-align: middle;\n",
       "    }\n",
       "\n",
       "    .dataframe tbody tr th {\n",
       "        vertical-align: top;\n",
       "    }\n",
       "\n",
       "    .dataframe thead th {\n",
       "        text-align: right;\n",
       "    }\n",
       "</style>\n",
       "<table border=\"1\" class=\"dataframe\">\n",
       "  <thead>\n",
       "    <tr style=\"text-align: right;\">\n",
       "      <th></th>\n",
       "      <th>map_value</th>\n",
       "      <th>mrr_value</th>\n",
       "      <th>ndcg_value</th>\n",
       "    </tr>\n",
       "  </thead>\n",
       "  <tbody>\n",
       "    <tr>\n",
       "      <th>2</th>\n",
       "      <td>0.029</td>\n",
       "      <td>0.056</td>\n",
       "      <td>0.1</td>\n",
       "    </tr>\n",
       "    <tr>\n",
       "      <th>4</th>\n",
       "      <td>0.023</td>\n",
       "      <td>0.068</td>\n",
       "      <td>0.1</td>\n",
       "    </tr>\n",
       "    <tr>\n",
       "      <th>6</th>\n",
       "      <td>0.018</td>\n",
       "      <td>0.072</td>\n",
       "      <td>0.1</td>\n",
       "    </tr>\n",
       "    <tr>\n",
       "      <th>8</th>\n",
       "      <td>0.018</td>\n",
       "      <td>0.077</td>\n",
       "      <td>0.1</td>\n",
       "    </tr>\n",
       "    <tr>\n",
       "      <th>10</th>\n",
       "      <td>0.018</td>\n",
       "      <td>0.077</td>\n",
       "      <td>0.1</td>\n",
       "    </tr>\n",
       "    <tr>\n",
       "      <th>12</th>\n",
       "      <td>0.018</td>\n",
       "      <td>0.077</td>\n",
       "      <td>0.1</td>\n",
       "    </tr>\n",
       "    <tr>\n",
       "      <th>14</th>\n",
       "      <td>0.018</td>\n",
       "      <td>0.077</td>\n",
       "      <td>0.1</td>\n",
       "    </tr>\n",
       "    <tr>\n",
       "      <th>16</th>\n",
       "      <td>0.018</td>\n",
       "      <td>0.077</td>\n",
       "      <td>0.1</td>\n",
       "    </tr>\n",
       "    <tr>\n",
       "      <th>18</th>\n",
       "      <td>0.018</td>\n",
       "      <td>0.077</td>\n",
       "      <td>0.1</td>\n",
       "    </tr>\n",
       "    <tr>\n",
       "      <th>20</th>\n",
       "      <td>0.018</td>\n",
       "      <td>0.077</td>\n",
       "      <td>0.1</td>\n",
       "    </tr>\n",
       "  </tbody>\n",
       "</table>\n",
       "</div>"
      ],
      "text/plain": [
       "    map_value  mrr_value  ndcg_value\n",
       "2       0.029      0.056         0.1\n",
       "4       0.023      0.068         0.1\n",
       "6       0.018      0.072         0.1\n",
       "8       0.018      0.077         0.1\n",
       "10      0.018      0.077         0.1\n",
       "12      0.018      0.077         0.1\n",
       "14      0.018      0.077         0.1\n",
       "16      0.018      0.077         0.1\n",
       "18      0.018      0.077         0.1\n",
       "20      0.018      0.077         0.1"
      ]
     },
     "execution_count": 34,
     "metadata": {},
     "output_type": "execute_result"
    }
   ],
   "source": [
    "results = get_table_results(user_target_items_sorted, ranking_system, None)\n",
    "df = pd.DataFrame(results).transpose()\n",
    "df"
   ]
  },
  {
   "cell_type": "code",
   "execution_count": 35,
   "id": "ed1e590e52ed023d",
   "metadata": {
    "ExecuteTime": {
     "end_time": "2023-11-13T23:20:04.449615600Z",
     "start_time": "2023-11-13T23:20:02.772854600Z"
    },
    "collapsed": false
   },
   "outputs": [
    {
     "data": {
      "text/html": [
       "<div>\n",
       "<style scoped>\n",
       "    .dataframe tbody tr th:only-of-type {\n",
       "        vertical-align: middle;\n",
       "    }\n",
       "\n",
       "    .dataframe tbody tr th {\n",
       "        vertical-align: top;\n",
       "    }\n",
       "\n",
       "    .dataframe thead th {\n",
       "        text-align: right;\n",
       "    }\n",
       "</style>\n",
       "<table border=\"1\" class=\"dataframe\">\n",
       "  <thead>\n",
       "    <tr style=\"text-align: right;\">\n",
       "      <th></th>\n",
       "      <th>map_value</th>\n",
       "      <th>mrr_value</th>\n",
       "      <th>ndcg_value</th>\n",
       "    </tr>\n",
       "  </thead>\n",
       "  <tbody>\n",
       "    <tr>\n",
       "      <th>2</th>\n",
       "      <td>0.033</td>\n",
       "      <td>0.062</td>\n",
       "      <td>0.097</td>\n",
       "    </tr>\n",
       "    <tr>\n",
       "      <th>4</th>\n",
       "      <td>0.022</td>\n",
       "      <td>0.071</td>\n",
       "      <td>0.097</td>\n",
       "    </tr>\n",
       "    <tr>\n",
       "      <th>6</th>\n",
       "      <td>0.022</td>\n",
       "      <td>0.074</td>\n",
       "      <td>0.097</td>\n",
       "    </tr>\n",
       "    <tr>\n",
       "      <th>8</th>\n",
       "      <td>0.022</td>\n",
       "      <td>0.074</td>\n",
       "      <td>0.097</td>\n",
       "    </tr>\n",
       "    <tr>\n",
       "      <th>10</th>\n",
       "      <td>0.022</td>\n",
       "      <td>0.074</td>\n",
       "      <td>0.097</td>\n",
       "    </tr>\n",
       "    <tr>\n",
       "      <th>12</th>\n",
       "      <td>0.022</td>\n",
       "      <td>0.074</td>\n",
       "      <td>0.097</td>\n",
       "    </tr>\n",
       "    <tr>\n",
       "      <th>14</th>\n",
       "      <td>0.022</td>\n",
       "      <td>0.074</td>\n",
       "      <td>0.097</td>\n",
       "    </tr>\n",
       "    <tr>\n",
       "      <th>16</th>\n",
       "      <td>0.022</td>\n",
       "      <td>0.074</td>\n",
       "      <td>0.097</td>\n",
       "    </tr>\n",
       "    <tr>\n",
       "      <th>18</th>\n",
       "      <td>0.022</td>\n",
       "      <td>0.074</td>\n",
       "      <td>0.097</td>\n",
       "    </tr>\n",
       "    <tr>\n",
       "      <th>20</th>\n",
       "      <td>0.022</td>\n",
       "      <td>0.074</td>\n",
       "      <td>0.097</td>\n",
       "    </tr>\n",
       "  </tbody>\n",
       "</table>\n",
       "</div>"
      ],
      "text/plain": [
       "    map_value  mrr_value  ndcg_value\n",
       "2       0.033      0.062       0.097\n",
       "4       0.022      0.071       0.097\n",
       "6       0.022      0.074       0.097\n",
       "8       0.022      0.074       0.097\n",
       "10      0.022      0.074       0.097\n",
       "12      0.022      0.074       0.097\n",
       "14      0.022      0.074       0.097\n",
       "16      0.022      0.074       0.097\n",
       "18      0.022      0.074       0.097\n",
       "20      0.022      0.074       0.097"
      ]
     },
     "execution_count": 35,
     "metadata": {},
     "output_type": "execute_result"
    }
   ],
   "source": [
    "results = get_table_results(user_target_items_sorted, most_popular_df, None)\n",
    "df = pd.DataFrame(results).transpose()\n",
    "df"
   ]
  },
  {
   "cell_type": "code",
   "execution_count": 36,
   "id": "1af5e064f2ba3ffb",
   "metadata": {
    "ExecuteTime": {
     "end_time": "2023-11-13T23:20:28.465196700Z",
     "start_time": "2023-11-13T23:20:04.452613800Z"
    },
    "collapsed": false
   },
   "outputs": [
    {
     "data": {
      "text/html": [
       "<div>\n",
       "<style scoped>\n",
       "    .dataframe tbody tr th:only-of-type {\n",
       "        vertical-align: middle;\n",
       "    }\n",
       "\n",
       "    .dataframe tbody tr th {\n",
       "        vertical-align: top;\n",
       "    }\n",
       "\n",
       "    .dataframe thead th {\n",
       "        text-align: right;\n",
       "    }\n",
       "</style>\n",
       "<table border=\"1\" class=\"dataframe\">\n",
       "  <thead>\n",
       "    <tr style=\"text-align: right;\">\n",
       "      <th></th>\n",
       "      <th>map_value</th>\n",
       "      <th>mrr_value</th>\n",
       "      <th>ndcg_value</th>\n",
       "    </tr>\n",
       "  </thead>\n",
       "  <tbody>\n",
       "    <tr>\n",
       "      <th>2</th>\n",
       "      <td>0.037</td>\n",
       "      <td>0.048</td>\n",
       "      <td>0.060</td>\n",
       "    </tr>\n",
       "    <tr>\n",
       "      <th>4</th>\n",
       "      <td>0.030</td>\n",
       "      <td>0.064</td>\n",
       "      <td>0.085</td>\n",
       "    </tr>\n",
       "    <tr>\n",
       "      <th>6</th>\n",
       "      <td>0.023</td>\n",
       "      <td>0.068</td>\n",
       "      <td>0.093</td>\n",
       "    </tr>\n",
       "    <tr>\n",
       "      <th>8</th>\n",
       "      <td>0.018</td>\n",
       "      <td>0.069</td>\n",
       "      <td>0.096</td>\n",
       "    </tr>\n",
       "    <tr>\n",
       "      <th>10</th>\n",
       "      <td>0.015</td>\n",
       "      <td>0.070</td>\n",
       "      <td>0.098</td>\n",
       "    </tr>\n",
       "    <tr>\n",
       "      <th>12</th>\n",
       "      <td>0.013</td>\n",
       "      <td>0.071</td>\n",
       "      <td>0.099</td>\n",
       "    </tr>\n",
       "    <tr>\n",
       "      <th>14</th>\n",
       "      <td>0.011</td>\n",
       "      <td>0.071</td>\n",
       "      <td>0.099</td>\n",
       "    </tr>\n",
       "    <tr>\n",
       "      <th>16</th>\n",
       "      <td>0.009</td>\n",
       "      <td>0.071</td>\n",
       "      <td>0.099</td>\n",
       "    </tr>\n",
       "    <tr>\n",
       "      <th>18</th>\n",
       "      <td>0.008</td>\n",
       "      <td>0.071</td>\n",
       "      <td>0.100</td>\n",
       "    </tr>\n",
       "    <tr>\n",
       "      <th>20</th>\n",
       "      <td>0.008</td>\n",
       "      <td>0.071</td>\n",
       "      <td>0.100</td>\n",
       "    </tr>\n",
       "  </tbody>\n",
       "</table>\n",
       "</div>"
      ],
      "text/plain": [
       "    map_value  mrr_value  ndcg_value\n",
       "2       0.037      0.048       0.060\n",
       "4       0.030      0.064       0.085\n",
       "6       0.023      0.068       0.093\n",
       "8       0.018      0.069       0.096\n",
       "10      0.015      0.070       0.098\n",
       "12      0.013      0.071       0.099\n",
       "14      0.011      0.071       0.099\n",
       "16      0.009      0.071       0.099\n",
       "18      0.008      0.071       0.100\n",
       "20      0.008      0.071       0.100"
      ]
     },
     "execution_count": 36,
     "metadata": {},
     "output_type": "execute_result"
    }
   ],
   "source": [
    "results = get_table_results(\n",
    "    user_target_items_sorted, None, get_recommendation_collaborative\n",
    ")\n",
    "df = pd.DataFrame(results).transpose()\n",
    "df"
   ]
  },
  {
   "cell_type": "markdown",
   "id": "d936edd7c2a54c18",
   "metadata": {
    "collapsed": false
   },
   "source": [
    "# Cold start\n",
    "Problem cold startu został rozwiązany za pomocą rekomendowania najpopularniejszych przedmiotów."
   ]
  },
  {
   "cell_type": "markdown",
   "id": "8aa79c1710777586",
   "metadata": {
    "collapsed": false
   },
   "source": [
    "# Wnioski\n",
    "\n",
    "- sekwencyjny model wykorzystujący wiele modalności jest modelem skomplikowanym wymagającym wiele czasu na dostrojenie i dobranie hiperparametrów\n",
    "- sukces w treningu jednego z komponentów nie zapewnia sukcesu całego systemu\n",
    "- połączenie wielu modalności może przynieść zysk w postaci informacji o użytkowniku\n",
    "- ograniczenie zbioru może spowodować okrojenie informacji na temat zbioru"
   ]
  },
  {
   "cell_type": "code",
   "execution_count": 36,
   "id": "385a088709e942bd",
   "metadata": {
    "ExecuteTime": {
     "end_time": "2023-11-13T23:20:28.553607500Z",
     "start_time": "2023-11-13T23:20:28.456404300Z"
    },
    "collapsed": false
   },
   "outputs": [],
   "source": []
  },
  {
   "cell_type": "code",
   "execution_count": 36,
   "id": "87d7d62bab550468",
   "metadata": {
    "ExecuteTime": {
     "end_time": "2023-11-13T23:20:28.591781200Z",
     "start_time": "2023-11-13T23:20:28.489666300Z"
    },
    "collapsed": false
   },
   "outputs": [],
   "source": []
  }
 ],
 "metadata": {
  "kernelspec": {
   "display_name": "Python 3 (ipykernel)",
   "language": "python",
   "name": "python3"
  },
  "language_info": {
   "codemirror_mode": {
    "name": "ipython",
    "version": 3
   },
   "file_extension": ".py",
   "mimetype": "text/x-python",
   "name": "python",
   "nbconvert_exporter": "python",
   "pygments_lexer": "ipython3",
   "version": "3.10.11"
  }
 },
 "nbformat": 4,
 "nbformat_minor": 5
}
